{
 "cells": [
  {
   "cell_type": "markdown",
   "id": "55531657",
   "metadata": {},
   "source": [
    "# Importing Libraries"
   ]
  },
  {
   "cell_type": "code",
   "execution_count": 1,
   "id": "98cde4ec",
   "metadata": {},
   "outputs": [],
   "source": [
    "import numpy as np\n",
    "import pandas as pd\n",
    "import plotly.express as px\n",
    "\n",
    "import warnings\n",
    "warnings.filterwarnings('ignore')\n",
    "pd.set_option('display.max_columns', None)\n",
    "\n",
    "from pandas import ExcelWriter\n",
    "import xlsxwriter"
   ]
  },
  {
   "cell_type": "code",
   "execution_count": 2,
   "id": "28aec320",
   "metadata": {},
   "outputs": [],
   "source": [
    "data=pd.read_excel(r'C:\\Users\\Umar Muhammad\\Dropbox\\TO3 South\\DHIS2\\Gap Analysis\\2021\\Q4\\October 2021\\gaps_july-sept\\melt\\clean_data_south.xlsx')"
   ]
  },
  {
   "cell_type": "code",
   "execution_count": 3,
   "id": "42db5c0d",
   "metadata": {},
   "outputs": [],
   "source": [
    "imm=data[['Facility Name', 'State', 'LGA', 'Ward','Month_Year','Penta. 1 given', 'Penta 3 given']]\n",
    "imm=imm.fillna(0)"
   ]
  },
  {
   "cell_type": "code",
   "execution_count": 4,
   "id": "6714ceee",
   "metadata": {},
   "outputs": [],
   "source": [
    "penta_dropout = (imm[\"Penta. 1 given\"] - imm[\"Penta 3 given\"]).div(imm['Penta. 1 given'])\n",
    "\n",
    "imm['penta_dropout']=penta_dropout"
   ]
  },
  {
   "cell_type": "code",
   "execution_count": 5,
   "id": "149cb0bf",
   "metadata": {},
   "outputs": [],
   "source": [
    "imm['dropout_rate']=pd.Series([\"{0:.2f}%\".format(val * 100) for val in imm['penta_dropout']], index = imm.index)"
   ]
  },
  {
   "cell_type": "code",
   "execution_count": 6,
   "id": "8baf93f2",
   "metadata": {},
   "outputs": [],
   "source": [
    "imm1=imm"
   ]
  },
  {
   "cell_type": "markdown",
   "id": "d912b5e6",
   "metadata": {},
   "source": [
    "## Validations"
   ]
  },
  {
   "cell_type": "code",
   "execution_count": 7,
   "id": "1057729b",
   "metadata": {},
   "outputs": [],
   "source": [
    "conditions = [(imm['penta_dropout'] < 0)]\n",
    "choices = ['negative dropout']\n",
    "imm['Immunization_Remarks-1'] = np.select(conditions,choices, default='')"
   ]
  },
  {
   "cell_type": "code",
   "execution_count": 8,
   "id": "b0043716",
   "metadata": {},
   "outputs": [],
   "source": [
    "conditions = [(imm['Penta. 1 given'] == 0) & (imm['Penta 3 given'] == 0)]\n",
    "choices = ['no reports']\n",
    "imm['Immunization_Remarks-2'] = np.select(conditions,choices, default='')"
   ]
  },
  {
   "cell_type": "code",
   "execution_count": 11,
   "id": "11053801",
   "metadata": {},
   "outputs": [],
   "source": [
    "conditions = [(imm['penta_dropout'] >= 0.101 )]\n",
    "choices = ['high dropout rate']\n",
    "imm['Immunization_Remarks-3'] = np.select(conditions,choices, default='')"
   ]
  },
  {
   "cell_type": "code",
   "execution_count": 12,
   "id": "478c7383",
   "metadata": {},
   "outputs": [],
   "source": [
    "Remarks= imm[['Facility Name', 'State', 'LGA', 'Ward', 'Month_Year','Immunization_Remarks-1','Immunization_Remarks-2','Immunization_Remarks-3']]"
   ]
  },
  {
   "cell_type": "code",
   "execution_count": 13,
   "id": "f1e8078a",
   "metadata": {},
   "outputs": [],
   "source": [
    "melt = Remarks.melt(id_vars=['Facility Name','LGA', 'Ward', 'Month_Year'])"
   ]
  },
  {
   "cell_type": "code",
   "execution_count": 14,
   "id": "ac5ba52b",
   "metadata": {},
   "outputs": [],
   "source": [
    "melt = melt.drop(index=melt[melt['value']==''].index)\n",
    "melt = melt.drop(index=melt[melt['value']=='  State'].index)"
   ]
  },
  {
   "cell_type": "code",
   "execution_count": 15,
   "id": "5390e5c7",
   "metadata": {},
   "outputs": [],
   "source": [
    "melt.to_excel('output/Immunization_remarks_all.xls', index = False)"
   ]
  },
  {
   "cell_type": "code",
   "execution_count": null,
   "id": "508fdb5c",
   "metadata": {},
   "outputs": [],
   "source": []
  }
 ],
 "metadata": {
  "kernelspec": {
   "display_name": "Python 3",
   "language": "python",
   "name": "python3"
  },
  "language_info": {
   "codemirror_mode": {
    "name": "ipython",
    "version": 3
   },
   "file_extension": ".py",
   "mimetype": "text/x-python",
   "name": "python",
   "nbconvert_exporter": "python",
   "pygments_lexer": "ipython3",
   "version": "3.8.8"
  }
 },
 "nbformat": 4,
 "nbformat_minor": 5
}
