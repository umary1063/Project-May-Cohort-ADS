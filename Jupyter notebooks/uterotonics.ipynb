{
 "cells": [
  {
   "cell_type": "markdown",
   "id": "45f52983",
   "metadata": {},
   "source": [
    "### importing libraries"
   ]
  },
  {
   "cell_type": "code",
   "execution_count": 1,
   "id": "d5b7d9a4",
   "metadata": {},
   "outputs": [],
   "source": [
    "import warnings\n",
    "warnings.filterwarnings('ignore')\n",
    "\n",
    "import numpy as np\n",
    "import pandas as pd\n",
    "import plotly.express as px\n",
    "\n",
    "from pandas import ExcelWriter\n",
    "import xlsxwriter"
   ]
  },
  {
   "cell_type": "markdown",
   "id": "6cd2e45a",
   "metadata": {},
   "source": [
    "### Importing data"
   ]
  },
  {
   "cell_type": "code",
   "execution_count": 2,
   "id": "b6285f64",
   "metadata": {},
   "outputs": [],
   "source": [
    "data=pd.read_excel(r'C:\\Users\\Umar Muhammad\\Dropbox\\TO3 South\\DHIS2\\Gap Analysis\\2021\\Q4\\October 2021\\gaps_july-sept\\melt\\clean_data_south.xlsx')"
   ]
  },
  {
   "cell_type": "code",
   "execution_count": 3,
   "id": "067e1c30",
   "metadata": {},
   "outputs": [],
   "source": [
    "mnh = data[['Facility Name','State', 'LGA','Ward',\n",
    "            'Month_Year',\n",
    "            'Deliveries Assisted',\n",
    "            'Deliveries Caeserean Section',\n",
    "            'Deliveries Spontaneous Vaginal Delivery (SVD)',\n",
    "            'Deliveries with complications - mother only',\n",
    "            'Women given Uterotonics in the 3rd stage of labour Oxytocin',\n",
    "            'Women given Uterotonics in the 3rd stage of labour Misoprostol']]"
   ]
  },
  {
   "cell_type": "code",
   "execution_count": 4,
   "id": "6a3f64e6",
   "metadata": {},
   "outputs": [],
   "source": [
    "utero = ['Women given Uterotonics in the 3rd stage of labour Oxytocin',\n",
    "         'Women given Uterotonics in the 3rd stage of labour Misoprostol']\n",
    "\n",
    "mnh['total_uterotonics'] = mnh[utero].sum(axis=1)   "
   ]
  },
  {
   "cell_type": "code",
   "execution_count": 5,
   "id": "0962e648",
   "metadata": {},
   "outputs": [],
   "source": [
    "deliveries_all = ['Deliveries Caeserean Section',\n",
    "                  'Deliveries Assisted',\n",
    "                  'Deliveries Spontaneous Vaginal Delivery (SVD)',\n",
    "                  'Deliveries with complications - mother only']\n",
    "\n",
    "mnh['deliveries_all'] = mnh[deliveries_all].sum(axis=1)"
   ]
  },
  {
   "cell_type": "markdown",
   "id": "b513d830",
   "metadata": {},
   "source": [
    "### Validation"
   ]
  },
  {
   "cell_type": "code",
   "execution_count": 6,
   "id": "ef3b09e8",
   "metadata": {},
   "outputs": [],
   "source": [
    "#Creating a remarks columns \n",
    "\n",
    "conditions = [mnh['Deliveries with complications - mother only'] >  \n",
    "              mnh['Women given Uterotonics in the 3rd stage of labour Misoprostol']]\n",
    "\n",
    "choices =  ['Deliveries with complications reported are more than Misoprostol reported']\n",
    "\n",
    "mnh['L&D_Remarks-1'] = np.select(conditions,choices, default = '')"
   ]
  },
  {
   "cell_type": "code",
   "execution_count": 7,
   "id": "9f423159",
   "metadata": {},
   "outputs": [],
   "source": [
    "#Creating a remarks columns \n",
    "\n",
    "conditions = [mnh['Deliveries with complications - mother only'] <  \n",
    "              mnh['Women given Uterotonics in the 3rd stage of labour Misoprostol']]\n",
    "\n",
    "choices =  ['Misoprostol reported is more than reported Deliveries with complications']\n",
    "\n",
    "mnh['L&D_Remarks-2'] = np.select(conditions,choices, default = '')"
   ]
  },
  {
   "cell_type": "code",
   "execution_count": 8,
   "id": "dc79bc14",
   "metadata": {},
   "outputs": [],
   "source": [
    "#Creating a remarks columns \n",
    "\n",
    "conditions = [mnh['Women given Uterotonics in the 3rd stage of labour Oxytocin'] >  \n",
    "              mnh['Deliveries Spontaneous Vaginal Delivery (SVD)']]\n",
    "\n",
    "choices =  ['Oxytocin reported is more than total deliveries']\n",
    "\n",
    "mnh['L&D_Remarks-3'] = np.select(conditions,choices, default = '')"
   ]
  },
  {
   "cell_type": "code",
   "execution_count": 9,
   "id": "1ef25ba7",
   "metadata": {},
   "outputs": [],
   "source": [
    "#Creating a remarks columns \n",
    "\n",
    "conditions = [mnh['Women given Uterotonics in the 3rd stage of labour Oxytocin'] <  \n",
    "              mnh['Deliveries Spontaneous Vaginal Delivery (SVD)']]\n",
    "\n",
    "choices =  ['Oxytocin reported is less than total deliveries']\n",
    "\n",
    "mnh['L&D_Remarks-4'] = np.select(conditions,choices, default = '')"
   ]
  },
  {
   "cell_type": "code",
   "execution_count": 10,
   "id": "510c3c97",
   "metadata": {},
   "outputs": [],
   "source": [
    "#Creating a remarks columns \n",
    "\n",
    "conditions = [mnh['total_uterotonics'] == 0]\n",
    "\n",
    "choices =  ['no reports of uterotonics']\n",
    "\n",
    "mnh['L&D_Remarks-5'] = np.select(conditions,choices, default = '')"
   ]
  },
  {
   "cell_type": "code",
   "execution_count": 11,
   "id": "de676d69",
   "metadata": {},
   "outputs": [],
   "source": [
    "mnh = mnh[['Facility Name', 'State', 'LGA', 'Ward', 'Month_Year','L&D_Remarks-1', 'L&D_Remarks-2', 'L&D_Remarks-3',\n",
    "               'L&D_Remarks-4', 'L&D_Remarks-5']]"
   ]
  },
  {
   "cell_type": "code",
   "execution_count": 12,
   "id": "3d74f20f",
   "metadata": {},
   "outputs": [],
   "source": [
    "melt = mnh.melt(id_vars=['Facility Name','LGA', 'Ward', 'Month_Year'])"
   ]
  },
  {
   "cell_type": "code",
   "execution_count": 13,
   "id": "eef50522",
   "metadata": {},
   "outputs": [],
   "source": [
    "melt = melt.drop(index=melt[melt['value']==''].index)\n",
    "melt = melt.drop(index=melt[melt['value']=='  State'].index)"
   ]
  },
  {
   "cell_type": "code",
   "execution_count": 14,
   "id": "55c52b33",
   "metadata": {},
   "outputs": [],
   "source": [
    "melt.to_excel('output/uterotonics_remarks_all.xls', index = False)"
   ]
  },
  {
   "cell_type": "code",
   "execution_count": null,
   "id": "ba7b4a3c",
   "metadata": {},
   "outputs": [],
   "source": []
  }
 ],
 "metadata": {
  "kernelspec": {
   "display_name": "Python 3",
   "language": "python",
   "name": "python3"
  },
  "language_info": {
   "codemirror_mode": {
    "name": "ipython",
    "version": 3
   },
   "file_extension": ".py",
   "mimetype": "text/x-python",
   "name": "python",
   "nbconvert_exporter": "python",
   "pygments_lexer": "ipython3",
   "version": "3.8.8"
  }
 },
 "nbformat": 4,
 "nbformat_minor": 5
}
