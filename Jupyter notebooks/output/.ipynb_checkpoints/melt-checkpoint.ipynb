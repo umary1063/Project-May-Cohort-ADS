{
 "cells": [
  {
   "cell_type": "markdown",
   "id": "45f52983",
   "metadata": {},
   "source": [
    "### importing libraries"
   ]
  },
  {
   "cell_type": "code",
   "execution_count": 1,
   "id": "5c35f9ae",
   "metadata": {},
   "outputs": [],
   "source": [
    "import warnings\n",
    "warnings.filterwarnings('ignore')"
   ]
  },
  {
   "cell_type": "code",
   "execution_count": 2,
   "id": "d5b7d9a4",
   "metadata": {},
   "outputs": [],
   "source": [
    "import pandas as pd\n",
    "import numpy as np"
   ]
  },
  {
   "cell_type": "markdown",
   "id": "6cd2e45a",
   "metadata": {},
   "source": [
    "### Importing data"
   ]
  },
  {
   "cell_type": "code",
   "execution_count": 3,
   "id": "b6285f64",
   "metadata": {},
   "outputs": [],
   "source": [
    "fp=pd.read_excel('family_planning_remarks_all.xls')"
   ]
  },
  {
   "cell_type": "code",
   "execution_count": 4,
   "id": "38fcfb87",
   "metadata": {},
   "outputs": [],
   "source": [
    "ut=pd.read_excel('uterotonics_remarks_all.xls')"
   ]
  },
  {
   "cell_type": "code",
   "execution_count": 5,
   "id": "d2d9104a",
   "metadata": {},
   "outputs": [],
   "source": [
    "ma=pd.read_excel('malaria_remarks_all.xls')"
   ]
  },
  {
   "cell_type": "code",
   "execution_count": 6,
   "id": "cdd2956e",
   "metadata": {},
   "outputs": [],
   "source": [
    "imm=pd.read_excel('Immunization_remarks_all.xls')"
   ]
  },
  {
   "cell_type": "code",
   "execution_count": 7,
   "id": "76466aeb",
   "metadata": {},
   "outputs": [],
   "source": [
    "anc=pd.read_excel('anc_pnc_remarks_all.xls')"
   ]
  },
  {
   "cell_type": "code",
   "execution_count": 8,
   "id": "e74cc5ee",
   "metadata": {},
   "outputs": [],
   "source": [
    "inb=pd.read_excel('inb_remarks_all.xlsx')"
   ]
  },
  {
   "cell_type": "code",
   "execution_count": 9,
   "id": "802ca50d",
   "metadata": {},
   "outputs": [],
   "source": [
    "do=pd.read_excel('delivery_outcomes_remarks_all.xls')"
   ]
  },
  {
   "cell_type": "code",
   "execution_count": 16,
   "id": "d815167d",
   "metadata": {
    "scrolled": true
   },
   "outputs": [],
   "source": [
    "melt = pd.concat([fp,ut,ma,imm,anc,inb,do], ignore_index=False)"
   ]
  },
  {
   "cell_type": "code",
   "execution_count": 17,
   "id": "7b50011c",
   "metadata": {},
   "outputs": [],
   "source": [
    "melt = melt.set_index('LGA')"
   ]
  },
  {
   "cell_type": "code",
   "execution_count": 18,
   "id": "de8f96c0",
   "metadata": {},
   "outputs": [],
   "source": [
    "melt.to_excel('facilities\\melt.xls', index = True)"
   ]
  },
  {
   "cell_type": "code",
   "execution_count": null,
   "id": "7e38a826",
   "metadata": {},
   "outputs": [],
   "source": []
  }
 ],
 "metadata": {
  "kernelspec": {
   "display_name": "Python 3",
   "language": "python",
   "name": "python3"
  },
  "language_info": {
   "codemirror_mode": {
    "name": "ipython",
    "version": 3
   },
   "file_extension": ".py",
   "mimetype": "text/x-python",
   "name": "python",
   "nbconvert_exporter": "python",
   "pygments_lexer": "ipython3",
   "version": "3.8.8"
  }
 },
 "nbformat": 4,
 "nbformat_minor": 5
}
