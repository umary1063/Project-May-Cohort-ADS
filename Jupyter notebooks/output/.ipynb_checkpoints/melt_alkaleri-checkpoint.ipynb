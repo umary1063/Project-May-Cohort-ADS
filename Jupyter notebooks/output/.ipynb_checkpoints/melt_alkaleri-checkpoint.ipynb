{
 "cells": [
  {
   "cell_type": "markdown",
   "id": "45f52983",
   "metadata": {},
   "source": [
    "### importing libraries"
   ]
  },
  {
   "cell_type": "code",
   "execution_count": 1,
   "id": "5c35f9ae",
   "metadata": {},
   "outputs": [],
   "source": [
    "import warnings\n",
    "warnings.filterwarnings('ignore')"
   ]
  },
  {
   "cell_type": "code",
   "execution_count": 2,
   "id": "d5b7d9a4",
   "metadata": {},
   "outputs": [],
   "source": [
    "import pandas as pd\n",
    "import numpy as np"
   ]
  },
  {
   "cell_type": "markdown",
   "id": "6cd2e45a",
   "metadata": {},
   "source": [
    "### Importing data"
   ]
  },
  {
   "cell_type": "code",
   "execution_count": 3,
   "id": "b6285f64",
   "metadata": {},
   "outputs": [],
   "source": [
    "fp=pd.read_excel('family_planning_remarks_all.xls')"
   ]
  },
  {
   "cell_type": "code",
   "execution_count": 4,
   "id": "38fcfb87",
   "metadata": {},
   "outputs": [],
   "source": [
    "ut=pd.read_excel('uterotonics_remarks_all.xls')"
   ]
  },
  {
   "cell_type": "code",
   "execution_count": 5,
   "id": "d2d9104a",
   "metadata": {},
   "outputs": [],
   "source": [
    "ma=pd.read_excel('malaria_remarks_all.xls')"
   ]
  },
  {
   "cell_type": "code",
   "execution_count": 6,
   "id": "cdd2956e",
   "metadata": {},
   "outputs": [],
   "source": [
    "imm=pd.read_excel('Immunization_remarks_all.xls')"
   ]
  },
  {
   "cell_type": "code",
   "execution_count": 7,
   "id": "76466aeb",
   "metadata": {},
   "outputs": [],
   "source": [
    "anc=pd.read_excel('anc_pnc_remarks_all.xls')"
   ]
  },
  {
   "cell_type": "code",
   "execution_count": 8,
   "id": "e74cc5ee",
   "metadata": {},
   "outputs": [],
   "source": [
    "inb=pd.read_excel('inb_remarks_all.xlsx')"
   ]
  },
  {
   "cell_type": "code",
   "execution_count": 9,
   "id": "802ca50d",
   "metadata": {},
   "outputs": [],
   "source": [
    "do=pd.read_excel('delivery_outcomes_remarks_all.xls')"
   ]
  },
  {
   "cell_type": "code",
   "execution_count": 10,
   "id": "d815167d",
   "metadata": {
    "scrolled": true
   },
   "outputs": [],
   "source": [
    "melt = pd.concat([fp,ut,ma,imm,anc,inb,do], ignore_index=True)"
   ]
  },
  {
   "cell_type": "code",
   "execution_count": 11,
   "id": "de8f96c0",
   "metadata": {},
   "outputs": [],
   "source": [
    "melt.to_excel('melt.xls', index = True)"
   ]
  },
  {
   "cell_type": "code",
   "execution_count": 13,
   "id": "ad5ebe92",
   "metadata": {},
   "outputs": [],
   "source": [
    "melt.replace(to_replace =['Remarks-1', 'Remarks-2', 'Remarks-3', 'Remarks-4', 'Remarks-5',\n",
    "                          'Remarks-6', 'Remarks-7', 'Remarks-9', 'Remarks-10', 'Remarks-8',\n",
    "                          'Remarks-11'], value =\"Remark\", inplace=True)"
   ]
  },
  {
   "cell_type": "code",
   "execution_count": 14,
   "id": "ec62db0a",
   "metadata": {},
   "outputs": [],
   "source": [
    "#creating a filter which is similar to a groupby \n",
    "\n",
    "filt = melt['Facility Name']== ' Alkaleri General Hospital'\n",
    "hf1 = melt.loc[filt]\n",
    "\n",
    "hf1 = hf1.sort_values(by='value', ascending=True)"
   ]
  },
  {
   "cell_type": "code",
   "execution_count": 15,
   "id": "81a2debf",
   "metadata": {},
   "outputs": [],
   "source": [
    "#creating a filter which is similar to a groupby \n",
    "\n",
    "filt = melt['Facility Name']== ' Alkaleri Town Maternal & Child Health Clinic'\n",
    "hf2 = melt.loc[filt]\n",
    "\n",
    "hf2 = hf2.sort_values(by='value', ascending=True)"
   ]
  },
  {
   "cell_type": "code",
   "execution_count": 16,
   "id": "0cd3811a",
   "metadata": {},
   "outputs": [],
   "source": [
    "#creating a filter which is similar to a groupby \n",
    "\n",
    "filt = melt['Facility Name']== ' Bajama Primary Health Center'\n",
    "hf3 = melt.loc[filt]\n",
    "\n",
    "hf3 = hf3.sort_values(by='value', ascending=True)"
   ]
  },
  {
   "cell_type": "code",
   "execution_count": 17,
   "id": "82bb5857",
   "metadata": {},
   "outputs": [],
   "source": [
    "#creating a filter which is similar to a groupby \n",
    "\n",
    "filt = melt['Facility Name']== ' Bakin Kogi Model Primary Health Centre'\n",
    "hf4 = melt.loc[filt]\n",
    "\n",
    "hf4 = hf4.sort_values(by='value', ascending=True)"
   ]
  },
  {
   "cell_type": "code",
   "execution_count": 18,
   "id": "ab173829",
   "metadata": {},
   "outputs": [],
   "source": [
    "#creating a filter which is similar to a groupby \n",
    "\n",
    "filt = melt['Facility Name']== ' Digare Primary Health center'\n",
    "hf5 = melt.loc[filt]\n",
    "\n",
    "hf5 = hf5.sort_values(by='value', ascending=True)"
   ]
  },
  {
   "cell_type": "code",
   "execution_count": 19,
   "id": "8cc95db3",
   "metadata": {},
   "outputs": [],
   "source": [
    "#creating a filter which is similar to a groupby \n",
    "\n",
    "filt = melt['Facility Name']== ' Duguri Primary Health Care Centre'\n",
    "hf6 = melt.loc[filt]\n",
    "\n",
    "hf6 = hf6.sort_values(by='value', ascending=True)"
   ]
  },
  {
   "cell_type": "code",
   "execution_count": 20,
   "id": "fd05dcc0",
   "metadata": {},
   "outputs": [],
   "source": [
    "#creating a filter which is similar to a groupby \n",
    "\n",
    "filt = melt['Facility Name']== ' Futuk Primary Health Center'\n",
    "hf7 = melt.loc[filt]\n",
    "\n",
    "hf7 = hf7.sort_values(by='value', ascending=True)"
   ]
  },
  {
   "cell_type": "code",
   "execution_count": 21,
   "id": "e5565c0b",
   "metadata": {},
   "outputs": [],
   "source": [
    "#creating a filter which is similar to a groupby \n",
    "\n",
    "filt = melt['Facility Name']== ' Gar Primary Health Center'\n",
    "hf8 = melt.loc[filt]\n",
    "\n",
    "hf8 = hf8.sort_values(by='value', ascending=True)"
   ]
  },
  {
   "cell_type": "code",
   "execution_count": 22,
   "id": "292f7a05",
   "metadata": {},
   "outputs": [],
   "source": [
    "#creating a filter which is similar to a groupby \n",
    "\n",
    "filt = melt['Facility Name']== ' Garin Hamza  PrimaryHealth Center'\n",
    "hf9 = melt.loc[filt]\n",
    "\n",
    "hf9 = hf9.sort_values(by='value', ascending=True)"
   ]
  },
  {
   "cell_type": "code",
   "execution_count": 23,
   "id": "c3571cd9",
   "metadata": {},
   "outputs": [],
   "source": [
    "#creating a filter which is similar to a groupby \n",
    "\n",
    "filt = melt['Facility Name']== ' Gokaru Primary Health center'\n",
    "hf10 = melt.loc[filt]\n",
    "\n",
    "hf10 = hf10.sort_values(by='value', ascending=True)"
   ]
  },
  {
   "cell_type": "code",
   "execution_count": 24,
   "id": "d85b47f4",
   "metadata": {},
   "outputs": [],
   "source": [
    "#creating a filter which is similar to a groupby \n",
    "\n",
    "filt = melt['Facility Name']== ' Gorondo Primary Health Center'\n",
    "hf11 = melt.loc[filt]\n",
    "\n",
    "hf11 = hf11.sort_values(by='value', ascending=True)"
   ]
  },
  {
   "cell_type": "code",
   "execution_count": 25,
   "id": "61099382",
   "metadata": {},
   "outputs": [],
   "source": [
    "#creating a filter which is similar to a groupby \n",
    "\n",
    "filt = melt['Facility Name']== ' Gwana Primary Health Center'\n",
    "hf12 = melt.loc[filt]\n",
    "\n",
    "hf12 = hf12.sort_values(by='value', ascending=True)"
   ]
  },
  {
   "cell_type": "code",
   "execution_count": 26,
   "id": "e517ac00",
   "metadata": {},
   "outputs": [],
   "source": [
    "#creating a filter which is similar to a groupby \n",
    "\n",
    "filt = melt['Facility Name']== ' Gwaram Primary Health Center'\n",
    "hf13 = melt.loc[filt]\n",
    "\n",
    "hf13 = hf13.sort_values(by='value', ascending=True)"
   ]
  },
  {
   "cell_type": "code",
   "execution_count": 27,
   "id": "2da6742c",
   "metadata": {},
   "outputs": [],
   "source": [
    "#creating a filter which is similar to a groupby \n",
    "\n",
    "filt = melt['Facility Name']== ' Kundak Primary Health Center'\n",
    "hf14 = melt.loc[filt]\n",
    "\n",
    "hf14 = hf14.sort_values(by='value', ascending=True)"
   ]
  },
  {
   "cell_type": "code",
   "execution_count": 28,
   "id": "dbd95358",
   "metadata": {},
   "outputs": [],
   "source": [
    "#creating a filter which is similar to a groupby \n",
    "\n",
    "filt = melt['Facility Name']== ' Maimadi PrimaryHealth Center'\n",
    "hf15 = melt.loc[filt]\n",
    "\n",
    "hf15 = hf15.sort_values(by='value', ascending=True)"
   ]
  },
  {
   "cell_type": "code",
   "execution_count": 29,
   "id": "507d08fe",
   "metadata": {},
   "outputs": [],
   "source": [
    "#creating a filter which is similar to a groupby \n",
    "\n",
    "filt = melt['Facility Name']== ' Mansur  Primary Health Center'\n",
    "hf16 = melt.loc[filt]\n",
    "\n",
    "hf16 = hf16.sort_values(by='value', ascending=True)"
   ]
  },
  {
   "cell_type": "code",
   "execution_count": 30,
   "id": "5bb85329",
   "metadata": {},
   "outputs": [],
   "source": [
    "#creating a filter which is similar to a groupby \n",
    "\n",
    "filt = melt['Facility Name']== ' Pali Primary Health Centre'\n",
    "hf17 = melt.loc[filt]\n",
    "\n",
    "hf17 = hf17.sort_values(by='value', ascending=True)"
   ]
  },
  {
   "cell_type": "code",
   "execution_count": 31,
   "id": "e30e634e",
   "metadata": {},
   "outputs": [],
   "source": [
    "#creating a filter which is similar to a groupby \n",
    "\n",
    "filt = melt['Facility Name']== ' Shira Primary Health Center'\n",
    "hf18 = melt.loc[filt]\n",
    "\n",
    "hf18 = hf18.sort_values(by='value', ascending=True)"
   ]
  },
  {
   "cell_type": "code",
   "execution_count": 32,
   "id": "47bca81e",
   "metadata": {},
   "outputs": [],
   "source": [
    "#creating a filter which is similar to a groupby \n",
    "\n",
    "filt = melt['Facility Name']== ' Yalo Primary Health Center'\n",
    "hf19 = melt.loc[filt]\n",
    "\n",
    "hf19 = hf19.sort_values(by='value', ascending=True)"
   ]
  },
  {
   "cell_type": "code",
   "execution_count": 33,
   "id": "401b6f99",
   "metadata": {},
   "outputs": [],
   "source": [
    "#creating a filter which is similar to a groupby \n",
    "\n",
    "filt = melt['Facility Name']== ' Yelwan Duguri Model Primary Health Center'\n",
    "hf20 = melt.loc[filt]\n",
    "\n",
    "hf20 = hf20.sort_values(by='value', ascending=True)"
   ]
  },
  {
   "cell_type": "code",
   "execution_count": 34,
   "id": "0c0fd7ec",
   "metadata": {},
   "outputs": [],
   "source": [
    "with pd.ExcelWriter('Alkaleri Phcs.xlsx') as writer1:\n",
    "    \n",
    "    hf1.to_excel(writer1, sheet_name = 'GH Alkaleri', index = False)\n",
    "    hf2.to_excel(writer1, sheet_name = 'Alkaleri Town', index = False)\n",
    "    hf3.to_excel(writer1, sheet_name = 'Bajama', index = False)\n",
    "    hf4.to_excel(writer1, sheet_name = 'Bakin Kogi', index = False)\n",
    "    hf5.to_excel(writer1, sheet_name = 'Digare', index = False)\n",
    "    hf6.to_excel(writer1, sheet_name = 'Duguri', index = False)\n",
    "    hf7.to_excel(writer1, sheet_name = 'Fukuk', index = False)\n",
    "    hf8.to_excel(writer1, sheet_name = 'Gar', index = False)\n",
    "    hf9.to_excel(writer1, sheet_name = 'Garin Hamza', index = False)\n",
    "    hf10.to_excel(writer1, sheet_name = 'Gokaru', index = False)\n",
    "    hf11.to_excel(writer1, sheet_name = 'Gorondo', index = False)\n",
    "    hf12.to_excel(writer1, sheet_name = 'Gwana', index = False)\n",
    "    hf13.to_excel(writer1, sheet_name = 'Gwaram', index = False)\n",
    "    hf14.to_excel(writer1, sheet_name = 'Kundak', index = False)\n",
    "    hf15.to_excel(writer1, sheet_name = 'Maimadi', index = False)\n",
    "    hf16.to_excel(writer1, sheet_name = 'Mansur', index = False)\n",
    "    hf17.to_excel(writer1, sheet_name = 'Pali', index = False)\n",
    "    hf18.to_excel(writer1, sheet_name = 'Shira', index = False)\n",
    "    hf19.to_excel(writer1, sheet_name = 'Yalo', index = False)\n",
    "    hf20.to_excel(writer1, sheet_name = 'Yalwan Duguri', index = False)"
   ]
  },
  {
   "cell_type": "code",
   "execution_count": null,
   "id": "1a2b2c67",
   "metadata": {},
   "outputs": [],
   "source": []
  }
 ],
 "metadata": {
  "kernelspec": {
   "display_name": "Python 3",
   "language": "python",
   "name": "python3"
  },
  "language_info": {
   "codemirror_mode": {
    "name": "ipython",
    "version": 3
   },
   "file_extension": ".py",
   "mimetype": "text/x-python",
   "name": "python",
   "nbconvert_exporter": "python",
   "pygments_lexer": "ipython3",
   "version": "3.8.8"
  }
 },
 "nbformat": 4,
 "nbformat_minor": 5
}
