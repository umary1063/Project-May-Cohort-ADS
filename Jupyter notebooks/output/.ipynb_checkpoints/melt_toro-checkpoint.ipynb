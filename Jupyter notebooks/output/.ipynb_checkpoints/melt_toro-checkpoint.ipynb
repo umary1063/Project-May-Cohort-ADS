{
 "cells": [
  {
   "cell_type": "markdown",
   "id": "45f52983",
   "metadata": {},
   "source": [
    "### importing libraries"
   ]
  },
  {
   "cell_type": "code",
   "execution_count": 1,
   "id": "5c35f9ae",
   "metadata": {},
   "outputs": [],
   "source": [
    "import warnings\n",
    "warnings.filterwarnings('ignore')"
   ]
  },
  {
   "cell_type": "code",
   "execution_count": 2,
   "id": "d5b7d9a4",
   "metadata": {},
   "outputs": [],
   "source": [
    "import pandas as pd\n",
    "import numpy as np"
   ]
  },
  {
   "cell_type": "markdown",
   "id": "6cd2e45a",
   "metadata": {},
   "source": [
    "### Importing data"
   ]
  },
  {
   "cell_type": "code",
   "execution_count": 3,
   "id": "b6285f64",
   "metadata": {},
   "outputs": [],
   "source": [
    "fp=pd.read_excel('family_planning_remarks_all.xls')"
   ]
  },
  {
   "cell_type": "code",
   "execution_count": 4,
   "id": "38fcfb87",
   "metadata": {},
   "outputs": [],
   "source": [
    "ut=pd.read_excel('uterotonics_remarks_all.xls')"
   ]
  },
  {
   "cell_type": "code",
   "execution_count": 5,
   "id": "d2d9104a",
   "metadata": {},
   "outputs": [],
   "source": [
    "ma=pd.read_excel('malaria_remarks_all.xls')"
   ]
  },
  {
   "cell_type": "code",
   "execution_count": 6,
   "id": "cdd2956e",
   "metadata": {},
   "outputs": [],
   "source": [
    "imm=pd.read_excel('Immunization_remarks_all.xls')"
   ]
  },
  {
   "cell_type": "code",
   "execution_count": 7,
   "id": "76466aeb",
   "metadata": {},
   "outputs": [],
   "source": [
    "anc=pd.read_excel('anc_pnc_remarks_all.xls')"
   ]
  },
  {
   "cell_type": "code",
   "execution_count": 8,
   "id": "e74cc5ee",
   "metadata": {},
   "outputs": [],
   "source": [
    "inb=pd.read_excel('inb_remarks_all.xlsx')"
   ]
  },
  {
   "cell_type": "code",
   "execution_count": 9,
   "id": "802ca50d",
   "metadata": {},
   "outputs": [],
   "source": [
    "do=pd.read_excel('delivery_outcomes_remarks_all.xls')"
   ]
  },
  {
   "cell_type": "code",
   "execution_count": 10,
   "id": "d815167d",
   "metadata": {
    "scrolled": true
   },
   "outputs": [],
   "source": [
    "melt = pd.concat([fp,ut,ma,imm,anc,inb,do], ignore_index=True)"
   ]
  },
  {
   "cell_type": "code",
   "execution_count": 11,
   "id": "4ff02d41",
   "metadata": {},
   "outputs": [],
   "source": [
    "melt.replace(to_replace =['Remarks-1', 'Remarks-2', 'Remarks-3', 'Remarks-4', 'Remarks-5',\n",
    "                          'Remarks-6', 'Remarks-7', 'Remarks-9', 'Remarks-10', 'Remarks-8',\n",
    "                          'Remarks-11'], value =\"Remark\", inplace=True)"
   ]
  },
  {
   "cell_type": "code",
   "execution_count": 12,
   "id": "ec62db0a",
   "metadata": {},
   "outputs": [],
   "source": [
    "#creating a filter which is similar to a groupby \n",
    "\n",
    "filt = melt['Facility Name']== ' Bukka Tulai Primary Health Care Centre'\n",
    "hf1 = melt.loc[filt]\n",
    "\n",
    "hf1 = hf1.sort_values(by='value', ascending=True)"
   ]
  },
  {
   "cell_type": "code",
   "execution_count": 13,
   "id": "81a2debf",
   "metadata": {},
   "outputs": [],
   "source": [
    "#creating a filter which is similar to a groupby \n",
    "\n",
    "filt = melt['Facility Name']== ' Geljaule Primary Health Care Centre'\n",
    "hf2 = melt.loc[filt]\n",
    "\n",
    "hf2 = hf2.sort_values(by='value', ascending=True)"
   ]
  },
  {
   "cell_type": "code",
   "execution_count": 14,
   "id": "0cd3811a",
   "metadata": {},
   "outputs": [],
   "source": [
    "#creating a filter which is similar to a groupby \n",
    "\n",
    "filt = melt['Facility Name']== ' Gumau Primary Health Care  Center'\n",
    "hf3 = melt.loc[filt]\n",
    "\n",
    "hf3 = hf3.sort_values(by='value', ascending=True)"
   ]
  },
  {
   "cell_type": "code",
   "execution_count": 15,
   "id": "82bb5857",
   "metadata": {},
   "outputs": [],
   "source": [
    "#creating a filter which is similar to a groupby \n",
    "\n",
    "filt = melt['Facility Name']== ' Gwalfada Primary Health Care Centre'\n",
    "hf4 = melt.loc[filt]\n",
    "\n",
    "hf4 = hf4.sort_values(by='value', ascending=True)"
   ]
  },
  {
   "cell_type": "code",
   "execution_count": 16,
   "id": "553de129",
   "metadata": {},
   "outputs": [],
   "source": [
    "#creating a filter which is similar to a groupby \n",
    "\n",
    "filt = melt['Facility Name']== \" Jama'a Primary Health Clinic\"\n",
    "hf5 = melt.loc[filt]\n",
    "\n",
    "hf5 = hf5.sort_values(by='value', ascending=True)"
   ]
  },
  {
   "cell_type": "code",
   "execution_count": 17,
   "id": "4623c1a6",
   "metadata": {},
   "outputs": [],
   "source": [
    "#creating a filter which is similar to a groupby \n",
    "\n",
    "filt = melt['Facility Name']== ' Lame Primary Health Care Center'\n",
    "hf6 = melt.loc[filt]\n",
    "\n",
    "hf6 = hf6.sort_values(by='value', ascending=True)"
   ]
  },
  {
   "cell_type": "code",
   "execution_count": 18,
   "id": "81ba16f7",
   "metadata": {},
   "outputs": [],
   "source": [
    "#creating a filter which is similar to a groupby \n",
    "\n",
    "filt = melt['Facility Name']== ' Magaman Gumau Primary Health care Centre'\n",
    "hf7 = melt.loc[filt]\n",
    "\n",
    "hf7 = hf7.sort_values(by='value', ascending=True)"
   ]
  },
  {
   "cell_type": "code",
   "execution_count": 19,
   "id": "28702dff",
   "metadata": {},
   "outputs": [],
   "source": [
    "#creating a filter which is similar to a groupby \n",
    "\n",
    "filt = melt['Facility Name']== ' Nahuta Primary Health Care Center'\n",
    "hf8 = melt.loc[filt]\n",
    "\n",
    "hf8 = hf8.sort_values(by='value', ascending=True)"
   ]
  },
  {
   "cell_type": "code",
   "execution_count": 20,
   "id": "049e1f54",
   "metadata": {},
   "outputs": [],
   "source": [
    "#creating a filter which is similar to a groupby \n",
    "\n",
    "filt = melt['Facility Name']== ' Nardo Primary Health Centre'\n",
    "hf9 = melt.loc[filt]\n",
    "\n",
    "hf9 = hf9.sort_values(by='value', ascending=True)"
   ]
  },
  {
   "cell_type": "code",
   "execution_count": 21,
   "id": "8699590d",
   "metadata": {},
   "outputs": [],
   "source": [
    "#creating a filter which is similar to a groupby \n",
    "\n",
    "filt = melt['Facility Name']== ' Rahama Model Primary Health Centre'\n",
    "hf10 = melt.loc[filt]\n",
    "\n",
    "hf10 = hf10.sort_values(by='value', ascending=True)"
   ]
  },
  {
   "cell_type": "code",
   "execution_count": 22,
   "id": "d1d66093",
   "metadata": {},
   "outputs": [],
   "source": [
    "#creating a filter which is similar to a groupby \n",
    "\n",
    "filt = melt['Facility Name']== ' Rimin Zayam Primary Health Care Centre'\n",
    "hf11 = melt.loc[filt]\n",
    "\n",
    "hf11 = hf11.sort_values(by='value', ascending=True)"
   ]
  },
  {
   "cell_type": "code",
   "execution_count": 23,
   "id": "5fdfa4d9",
   "metadata": {},
   "outputs": [],
   "source": [
    "#creating a filter which is similar to a groupby \n",
    "\n",
    "filt = melt['Facility Name']== ' Rinjin Gaini Primary Health Care Centre'\n",
    "hf12 = melt.loc[filt]\n",
    "\n",
    "hf12 = hf12.sort_values(by='value', ascending=True)"
   ]
  },
  {
   "cell_type": "code",
   "execution_count": 24,
   "id": "f3e95138",
   "metadata": {},
   "outputs": [],
   "source": [
    "#creating a filter which is similar to a groupby \n",
    "\n",
    "filt = melt['Facility Name']== ' Rishi Primary Health Centre'\n",
    "hf13 = melt.loc[filt]\n",
    "\n",
    "hf13 = hf13.sort_values(by='value', ascending=True)"
   ]
  },
  {
   "cell_type": "code",
   "execution_count": 25,
   "id": "3a046b31",
   "metadata": {},
   "outputs": [],
   "source": [
    "#creating a filter which is similar to a groupby \n",
    "\n",
    "filt = melt['Facility Name']== ' Tilden Fulani Primary Health Clinic'\n",
    "hf14 = melt.loc[filt]\n",
    "\n",
    "hf14 = hf14.sort_values(by='value', ascending=True)"
   ]
  },
  {
   "cell_type": "code",
   "execution_count": 26,
   "id": "75f1c01e",
   "metadata": {},
   "outputs": [],
   "source": [
    "#creating a filter which is similar to a groupby \n",
    "\n",
    "filt = melt['Facility Name']== ' Toro General Hospital'\n",
    "hf15 = melt.loc[filt]\n",
    "\n",
    "hf15 = hf15.sort_values(by='value', ascending=True)"
   ]
  },
  {
   "cell_type": "code",
   "execution_count": 27,
   "id": "ebbde11d",
   "metadata": {},
   "outputs": [],
   "source": [
    "#creating a filter which is similar to a groupby \n",
    "\n",
    "filt = melt['Facility Name']== ' Tulu Primary Health Care Centre'\n",
    "hf16 = melt.loc[filt]\n",
    "\n",
    "hf16 = hf16.sort_values(by='value', ascending=True)"
   ]
  },
  {
   "cell_type": "code",
   "execution_count": 28,
   "id": "2839109d",
   "metadata": {},
   "outputs": [],
   "source": [
    "#creating a filter which is similar to a groupby \n",
    "\n",
    "filt = melt['Facility Name']== ' Zakshi Primary Health Care Centre'\n",
    "hf17 = melt.loc[filt]\n",
    "\n",
    "hf17 = hf17.sort_values(by='value', ascending=True)"
   ]
  },
  {
   "cell_type": "code",
   "execution_count": 29,
   "id": "8afa1c85",
   "metadata": {},
   "outputs": [],
   "source": [
    "#creating a filter which is similar to a groupby \n",
    "\n",
    "filt = melt['Facility Name']== ' Zalau Primary Health  Care Centre'\n",
    "hf18 = melt.loc[filt]\n",
    "\n",
    "hf18 = hf18.sort_values(by='value', ascending=True)"
   ]
  },
  {
   "cell_type": "code",
   "execution_count": 31,
   "id": "6fccd255",
   "metadata": {},
   "outputs": [],
   "source": [
    "with pd.ExcelWriter('Toro PHCs.xlsx') as writer1:\n",
    "    \n",
    "    hf1.to_excel(writer1, sheet_name = 'Bukka Tulai', index = False)\n",
    "    hf2.to_excel(writer1, sheet_name = 'Geljaule', index = False)\n",
    "    hf3.to_excel(writer1, sheet_name = 'Gumau', index = False)\n",
    "    hf4.to_excel(writer1, sheet_name = 'Gwalfada', index = False)\n",
    "    hf5.to_excel(writer1, sheet_name = 'Jamaa', index = False)\n",
    "    hf6.to_excel(writer1, sheet_name = 'Lame', index = False)\n",
    "    hf7.to_excel(writer1, sheet_name = 'Magama', index = False)\n",
    "    hf8.to_excel(writer1, sheet_name = 'Nahuta', index = False)\n",
    "    hf9.to_excel(writer1, sheet_name = 'Nabordo', index = False)\n",
    "    hf10.to_excel(writer1, sheet_name = 'Rahama', index = False)\n",
    "    hf11.to_excel(writer1, sheet_name = 'Rimin Zayam', index = False)\n",
    "    hf12.to_excel(writer1, sheet_name = 'Rinjin Gani', index = False)\n",
    "    hf13.to_excel(writer1, sheet_name = 'Rishi', index = False)\n",
    "    hf14.to_excel(writer1, sheet_name = 'Tilde', index = False)\n",
    "    hf15.to_excel(writer1, sheet_name = 'Toro GH', index = False)\n",
    "    hf16.to_excel(writer1, sheet_name = 'Tulu', index = False)\n",
    "    hf17.to_excel(writer1, sheet_name = 'Zakshi', index = False)\n",
    "    hf18.to_excel(writer1, sheet_name = 'Zalau', index = False)"
   ]
  },
  {
   "cell_type": "code",
   "execution_count": null,
   "id": "72f9171c",
   "metadata": {},
   "outputs": [],
   "source": []
  }
 ],
 "metadata": {
  "kernelspec": {
   "display_name": "Python 3",
   "language": "python",
   "name": "python3"
  },
  "language_info": {
   "codemirror_mode": {
    "name": "ipython",
    "version": 3
   },
   "file_extension": ".py",
   "mimetype": "text/x-python",
   "name": "python",
   "nbconvert_exporter": "python",
   "pygments_lexer": "ipython3",
   "version": "3.8.8"
  }
 },
 "nbformat": 4,
 "nbformat_minor": 5
}
