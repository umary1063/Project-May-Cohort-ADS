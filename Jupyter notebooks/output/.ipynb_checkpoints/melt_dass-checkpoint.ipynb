{
 "cells": [
  {
   "cell_type": "markdown",
   "id": "45f52983",
   "metadata": {},
   "source": [
    "### importing libraries"
   ]
  },
  {
   "cell_type": "code",
   "execution_count": 1,
   "id": "5c35f9ae",
   "metadata": {},
   "outputs": [],
   "source": [
    "import warnings\n",
    "warnings.filterwarnings('ignore')"
   ]
  },
  {
   "cell_type": "code",
   "execution_count": 2,
   "id": "d5b7d9a4",
   "metadata": {},
   "outputs": [],
   "source": [
    "import pandas as pd\n",
    "import numpy as np"
   ]
  },
  {
   "cell_type": "markdown",
   "id": "6cd2e45a",
   "metadata": {},
   "source": [
    "### Importing data"
   ]
  },
  {
   "cell_type": "code",
   "execution_count": 3,
   "id": "b6285f64",
   "metadata": {},
   "outputs": [],
   "source": [
    "fp=pd.read_excel('family_planning_remarks_all.xls')"
   ]
  },
  {
   "cell_type": "code",
   "execution_count": 4,
   "id": "38fcfb87",
   "metadata": {},
   "outputs": [],
   "source": [
    "ut=pd.read_excel('uterotonics_remarks_all.xls')"
   ]
  },
  {
   "cell_type": "code",
   "execution_count": 5,
   "id": "d2d9104a",
   "metadata": {},
   "outputs": [],
   "source": [
    "ma=pd.read_excel('malaria_remarks_all.xls')"
   ]
  },
  {
   "cell_type": "code",
   "execution_count": 6,
   "id": "cdd2956e",
   "metadata": {},
   "outputs": [],
   "source": [
    "imm=pd.read_excel('Immunization_remarks_all.xls')"
   ]
  },
  {
   "cell_type": "code",
   "execution_count": 7,
   "id": "76466aeb",
   "metadata": {},
   "outputs": [],
   "source": [
    "anc=pd.read_excel('anc_pnc_remarks_all.xls')"
   ]
  },
  {
   "cell_type": "code",
   "execution_count": 8,
   "id": "e74cc5ee",
   "metadata": {},
   "outputs": [],
   "source": [
    "inb=pd.read_excel('inb_remarks_all.xlsx')"
   ]
  },
  {
   "cell_type": "code",
   "execution_count": 9,
   "id": "802ca50d",
   "metadata": {},
   "outputs": [],
   "source": [
    "do=pd.read_excel('delivery_outcomes_remarks_all.xls')"
   ]
  },
  {
   "cell_type": "code",
   "execution_count": 10,
   "id": "d815167d",
   "metadata": {
    "scrolled": true
   },
   "outputs": [],
   "source": [
    "melt = pd.concat([fp,ut,ma,imm,anc,inb,do], ignore_index=True)"
   ]
  },
  {
   "cell_type": "code",
   "execution_count": 11,
   "id": "de8f96c0",
   "metadata": {},
   "outputs": [],
   "source": [
    "melt.to_excel('melt.xls', index = True)"
   ]
  },
  {
   "cell_type": "code",
   "execution_count": 12,
   "id": "4ff02d41",
   "metadata": {},
   "outputs": [],
   "source": [
    "melt.replace(to_replace =['Remarks-1', 'Remarks-2', 'Remarks-3', 'Remarks-4', 'Remarks-5',\n",
    "                          'Remarks-6', 'Remarks-7', 'Remarks-9', 'Remarks-10', 'Remarks-8',\n",
    "                          'Remarks-11'], value =\"Remark\", inplace=True)"
   ]
  },
  {
   "cell_type": "code",
   "execution_count": 13,
   "id": "ec62db0a",
   "metadata": {},
   "outputs": [],
   "source": [
    "#creating a filter which is similar to a groupby \n",
    "\n",
    "filt = melt['Facility Name']== ' Badel Maternal And Child Health Clinic'\n",
    "hf1 = melt.loc[filt]\n",
    "\n",
    "hf1 = hf1.sort_values(by='value', ascending=True)"
   ]
  },
  {
   "cell_type": "code",
   "execution_count": 14,
   "id": "81a2debf",
   "metadata": {},
   "outputs": [],
   "source": [
    "#creating a filter which is similar to a groupby \n",
    "\n",
    "filt = melt['Facility Name']== ' Bajar Maternal And Child Health Clinic'\n",
    "hf2 = melt.loc[filt]\n",
    "\n",
    "hf2 = hf2.sort_values(by='value', ascending=True)"
   ]
  },
  {
   "cell_type": "code",
   "execution_count": 15,
   "id": "0cd3811a",
   "metadata": {},
   "outputs": [],
   "source": [
    "#creating a filter which is similar to a groupby \n",
    "\n",
    "filt = melt['Facility Name']== ' Baraza Primary Health Centre'\n",
    "hf3 = melt.loc[filt]\n",
    "\n",
    "hf3 = hf3.sort_values(by='value', ascending=True)"
   ]
  },
  {
   "cell_type": "code",
   "execution_count": 16,
   "id": "82bb5857",
   "metadata": {},
   "outputs": [],
   "source": [
    "#creating a filter which is similar to a groupby \n",
    "\n",
    "filt = melt['Facility Name']== ' Bashi Maternal And Child Health Clinic'\n",
    "hf4 = melt.loc[filt]\n",
    "\n",
    "hf4 = hf4.sort_values(by='value', ascending=True)"
   ]
  },
  {
   "cell_type": "code",
   "execution_count": 17,
   "id": "553de129",
   "metadata": {},
   "outputs": [],
   "source": [
    "#creating a filter which is similar to a groupby \n",
    "\n",
    "filt = melt['Facility Name']== ' Bununu Town Primary Health Care Center'\n",
    "hf5 = melt.loc[filt]\n",
    "\n",
    "hf5 = hf5.sort_values(by='value', ascending=True)"
   ]
  },
  {
   "cell_type": "code",
   "execution_count": 18,
   "id": "48b86d13",
   "metadata": {},
   "outputs": [],
   "source": [
    "#creating a filter which is similar to a groupby \n",
    "\n",
    "filt = melt['Facility Name']== ' Dardak Maternal And Child Health Clinic'\n",
    "hf6 = melt.loc[filt]\n",
    "\n",
    "hf6 = hf6.sort_values(by='value', ascending=True)"
   ]
  },
  {
   "cell_type": "code",
   "execution_count": 19,
   "id": "4623c1a6",
   "metadata": {},
   "outputs": [],
   "source": [
    "#creating a filter which is similar to a groupby \n",
    "\n",
    "filt = melt['Facility Name']== ' Dass General Hospital'\n",
    "hf7 = melt.loc[filt]\n",
    "\n",
    "hf7 = hf7.sort_values(by='value', ascending=True)"
   ]
  },
  {
   "cell_type": "code",
   "execution_count": 20,
   "id": "81ba16f7",
   "metadata": {},
   "outputs": [],
   "source": [
    "#creating a filter which is similar to a groupby \n",
    "\n",
    "filt = melt['Facility Name']== ' Dott Primary Health Centre'\n",
    "hf8 = melt.loc[filt]\n",
    "\n",
    "hf8 = hf8.sort_values(by='value', ascending=True)"
   ]
  },
  {
   "cell_type": "code",
   "execution_count": 21,
   "id": "28702dff",
   "metadata": {},
   "outputs": [],
   "source": [
    "#creating a filter which is similar to a groupby \n",
    "\n",
    "filt = melt['Facility Name']== ' Durr Model Primary Health Centre'\n",
    "hf9 = melt.loc[filt]\n",
    "\n",
    "hf9 = hf9.sort_values(by='value', ascending=True)"
   ]
  },
  {
   "cell_type": "code",
   "execution_count": 22,
   "id": "049e1f54",
   "metadata": {},
   "outputs": [],
   "source": [
    "#creating a filter which is similar to a groupby \n",
    "\n",
    "filt = melt['Facility Name']== ' Lukshi Maternal and Health Centre'\n",
    "hf10 = melt.loc[filt]\n",
    "\n",
    "hf10 = hf10.sort_values(by='value', ascending=True)"
   ]
  },
  {
   "cell_type": "code",
   "execution_count": 23,
   "id": "8699590d",
   "metadata": {},
   "outputs": [],
   "source": [
    "#creating a filter which is similar to a groupby \n",
    "\n",
    "filt = melt['Facility Name']== ' Polchi Primary Health Centre'\n",
    "hf11 = melt.loc[filt]\n",
    "\n",
    "hf11 = hf11.sort_values(by='value', ascending=True)"
   ]
  },
  {
   "cell_type": "code",
   "execution_count": 24,
   "id": "d1d66093",
   "metadata": {},
   "outputs": [],
   "source": [
    "#creating a filter which is similar to a groupby \n",
    "\n",
    "filt = melt['Facility Name']== ' Sabon Gari Burgel Primary Health Centre'\n",
    "hf12 = melt.loc[filt]\n",
    "\n",
    "hf12 = hf12.sort_values(by='value', ascending=True)"
   ]
  },
  {
   "cell_type": "code",
   "execution_count": 25,
   "id": "5fdfa4d9",
   "metadata": {},
   "outputs": [],
   "source": [
    "#creating a filter which is similar to a groupby \n",
    "\n",
    "filt = melt['Facility Name']== ' Wandi Maternaland Child Health Clinic (Dass)'\n",
    "hf13 = melt.loc[filt]\n",
    "\n",
    "hf13 = hf13.sort_values(by='value', ascending=True)"
   ]
  },
  {
   "cell_type": "code",
   "execution_count": 26,
   "id": "f3e95138",
   "metadata": {},
   "outputs": [],
   "source": [
    "#creating a filter which is similar to a groupby \n",
    "\n",
    "filt = melt['Facility Name']== ' Zumbul Maternal And Child Health Clinic'\n",
    "hf14 = melt.loc[filt]\n",
    "\n",
    "hf14 = hf14.sort_values(by='value', ascending=True)"
   ]
  },
  {
   "cell_type": "code",
   "execution_count": 27,
   "id": "6fccd255",
   "metadata": {},
   "outputs": [],
   "source": [
    "with pd.ExcelWriter('Dass PHCs.xlsx') as writer1:\n",
    "    \n",
    "    hf1.to_excel(writer1, sheet_name = 'Badel', index = False)\n",
    "    hf2.to_excel(writer1, sheet_name = 'Bajar', index = False)\n",
    "    hf3.to_excel(writer1, sheet_name = 'Baraza', index = False)\n",
    "    hf4.to_excel(writer1, sheet_name = 'Bashi', index = False)\n",
    "    hf5.to_excel(writer1, sheet_name = 'Bununu', index = False)\n",
    "    hf6.to_excel(writer1, sheet_name = 'Dardak', index = False)\n",
    "    hf7.to_excel(writer1, sheet_name = 'GH', index = False)\n",
    "    hf8.to_excel(writer1, sheet_name = 'Dott', index = False)\n",
    "    hf9.to_excel(writer1, sheet_name = 'Durr', index = False)\n",
    "    hf10.to_excel(writer1, sheet_name = 'Lukshi', index = False)\n",
    "    hf11.to_excel(writer1, sheet_name = 'Polchi', index = False)\n",
    "    hf12.to_excel(writer1, sheet_name = 'Sabon Gari', index = False)\n",
    "    hf13.to_excel(writer1, sheet_name = 'Wandi', index = False)\n",
    "    hf14.to_excel(writer1, sheet_name = 'Zumbul', index = False)"
   ]
  },
  {
   "cell_type": "code",
   "execution_count": null,
   "id": "72f9171c",
   "metadata": {},
   "outputs": [],
   "source": []
  }
 ],
 "metadata": {
  "kernelspec": {
   "display_name": "Python 3",
   "language": "python",
   "name": "python3"
  },
  "language_info": {
   "codemirror_mode": {
    "name": "ipython",
    "version": 3
   },
   "file_extension": ".py",
   "mimetype": "text/x-python",
   "name": "python",
   "nbconvert_exporter": "python",
   "pygments_lexer": "ipython3",
   "version": "3.8.8"
  }
 },
 "nbformat": 4,
 "nbformat_minor": 5
}
