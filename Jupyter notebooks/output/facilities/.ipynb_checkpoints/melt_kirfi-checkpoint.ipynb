{
 "cells": [
  {
   "cell_type": "markdown",
   "id": "45f52983",
   "metadata": {},
   "source": [
    "### importing libraries"
   ]
  },
  {
   "cell_type": "code",
   "execution_count": 1,
   "id": "5c35f9ae",
   "metadata": {},
   "outputs": [],
   "source": [
    "import warnings\n",
    "warnings.filterwarnings('ignore')"
   ]
  },
  {
   "cell_type": "code",
   "execution_count": 2,
   "id": "d5b7d9a4",
   "metadata": {},
   "outputs": [],
   "source": [
    "import pandas as pd\n",
    "import numpy as np"
   ]
  },
  {
   "cell_type": "markdown",
   "id": "6cd2e45a",
   "metadata": {},
   "source": [
    "### Importing data"
   ]
  },
  {
   "cell_type": "code",
   "execution_count": 3,
   "id": "b6285f64",
   "metadata": {},
   "outputs": [],
   "source": [
    "melt=pd.read_excel('melt.xls')"
   ]
  },
  {
   "cell_type": "markdown",
   "id": "502b483f",
   "metadata": {},
   "source": [
    "### Filtering by facility"
   ]
  },
  {
   "cell_type": "code",
   "execution_count": 4,
   "id": "ec62db0a",
   "metadata": {},
   "outputs": [],
   "source": [
    "#creating a filter which is similar to a groupby \n",
    "\n",
    "filt = melt['Facility Name']== ' Baba Primary Health Centre'\n",
    "hf1 = melt.loc[filt]\n",
    "\n",
    "hf1 = hf1.sort_values(by='value', ascending=True)"
   ]
  },
  {
   "cell_type": "code",
   "execution_count": 5,
   "id": "81a2debf",
   "metadata": {},
   "outputs": [],
   "source": [
    "#creating a filter which is similar to a groupby \n",
    "\n",
    "filt = melt['Facility Name']== ' Badara Primary Health Centre'\n",
    "hf2 = melt.loc[filt]\n",
    "\n",
    "hf2 = hf2.sort_values(by='value', ascending=True)"
   ]
  },
  {
   "cell_type": "code",
   "execution_count": 6,
   "id": "0cd3811a",
   "metadata": {},
   "outputs": [],
   "source": [
    "#creating a filter which is similar to a groupby \n",
    "\n",
    "filt = melt['Facility Name']== ' Bara Primary Health Centre'\n",
    "hf3 = melt.loc[filt]\n",
    "\n",
    "hf3 = hf3.sort_values(by='value', ascending=True)"
   ]
  },
  {
   "cell_type": "code",
   "execution_count": 7,
   "id": "82bb5857",
   "metadata": {},
   "outputs": [],
   "source": [
    "#creating a filter which is similar to a groupby \n",
    "\n",
    "filt = melt['Facility Name']== ' Dewu Primary Health Centre'\n",
    "hf4 = melt.loc[filt]\n",
    "\n",
    "hf4 = hf4.sort_values(by='value', ascending=True)"
   ]
  },
  {
   "cell_type": "code",
   "execution_count": 8,
   "id": "553de129",
   "metadata": {},
   "outputs": [],
   "source": [
    "#creating a filter which is similar to a groupby \n",
    "\n",
    "filt = melt['Facility Name']== ' Guyaba Primary Health Centre'\n",
    "hf5 = melt.loc[filt]\n",
    "\n",
    "hf5 = hf5.sort_values(by='value', ascending=True)"
   ]
  },
  {
   "cell_type": "code",
   "execution_count": 9,
   "id": "48b86d13",
   "metadata": {},
   "outputs": [],
   "source": [
    "#creating a filter which is similar to a groupby \n",
    "\n",
    "filt = melt['Facility Name']== ' Kafin-Iya Primary Health Centre'\n",
    "hf6 = melt.loc[filt]\n",
    "\n",
    "hf6 = hf6.sort_values(by='value', ascending=True)"
   ]
  },
  {
   "cell_type": "code",
   "execution_count": 10,
   "id": "4623c1a6",
   "metadata": {},
   "outputs": [],
   "source": [
    "#creating a filter which is similar to a groupby \n",
    "\n",
    "filt = melt['Facility Name']== ' Kirfi General Hospital'\n",
    "hf7 = melt.loc[filt]\n",
    "\n",
    "hf7 = hf7.sort_values(by='value', ascending=True)"
   ]
  },
  {
   "cell_type": "code",
   "execution_count": 11,
   "id": "81ba16f7",
   "metadata": {},
   "outputs": [],
   "source": [
    "#creating a filter which is similar to a groupby \n",
    "\n",
    "filt = melt['Facility Name']== ' Kirfi Town Primary Health Centre'\n",
    "hf8 = melt.loc[filt]\n",
    "\n",
    "hf8 = hf8.sort_values(by='value', ascending=True)"
   ]
  },
  {
   "cell_type": "code",
   "execution_count": 12,
   "id": "28702dff",
   "metadata": {},
   "outputs": [],
   "source": [
    "#creating a filter which is similar to a groupby \n",
    "\n",
    "filt = melt['Facility Name']== ' Kwagal Primary Health Centre'\n",
    "hf9 = melt.loc[filt]\n",
    "\n",
    "hf9 = hf9.sort_values(by='value', ascending=True)"
   ]
  },
  {
   "cell_type": "code",
   "execution_count": 13,
   "id": "049e1f54",
   "metadata": {},
   "outputs": [],
   "source": [
    "#creating a filter which is similar to a groupby \n",
    "\n",
    "filt = melt['Facility Name']== ' Lariski Primary Health Centre'\n",
    "hf10 = melt.loc[filt]\n",
    "\n",
    "hf10 = hf10.sort_values(by='value', ascending=True)"
   ]
  },
  {
   "cell_type": "code",
   "execution_count": 14,
   "id": "8699590d",
   "metadata": {},
   "outputs": [],
   "source": [
    "#creating a filter which is similar to a groupby \n",
    "\n",
    "filt = melt['Facility Name']== ' Shango Health Clinic'\n",
    "hf11 = melt.loc[filt]\n",
    "\n",
    "hf11 = hf11.sort_values(by='value', ascending=True)"
   ]
  },
  {
   "cell_type": "code",
   "execution_count": 15,
   "id": "d1d66093",
   "metadata": {},
   "outputs": [],
   "source": [
    "#creating a filter which is similar to a groupby \n",
    "\n",
    "filt = melt['Facility Name']== ' Tubule Primary Health Centre'\n",
    "hf12 = melt.loc[filt]\n",
    "\n",
    "hf12 = hf12.sort_values(by='value', ascending=True)"
   ]
  },
  {
   "cell_type": "code",
   "execution_count": 16,
   "id": "5fdfa4d9",
   "metadata": {},
   "outputs": [],
   "source": [
    "#creating a filter which is similar to a groupby \n",
    "\n",
    "filt = melt['Facility Name']== ' Wanka Primary Health Centre'\n",
    "hf13 = melt.loc[filt]\n",
    "\n",
    "hf13 = hf13.sort_values(by='value', ascending=True)"
   ]
  },
  {
   "cell_type": "code",
   "execution_count": 17,
   "id": "f3e95138",
   "metadata": {},
   "outputs": [],
   "source": [
    "#creating a filter which is similar to a groupby \n",
    "\n",
    "filt = melt['Facility Name']== ' Beni Primary Health Centre'\n",
    "hf14 = melt.loc[filt]\n",
    "\n",
    "hf14 = hf14.sort_values(by='value', ascending=True)"
   ]
  },
  {
   "cell_type": "code",
   "execution_count": 18,
   "id": "6fccd255",
   "metadata": {},
   "outputs": [],
   "source": [
    "with pd.ExcelWriter('output\\Kirfi PHCs.xlsx') as writer1:\n",
    "    \n",
    "    hf1.to_excel(writer1, sheet_name = 'Baba', index = False)\n",
    "    hf2.to_excel(writer1, sheet_name = 'Badara', index = False)\n",
    "    hf3.to_excel(writer1, sheet_name = 'Bara', index = False)\n",
    "    hf4.to_excel(writer1, sheet_name = 'Dewu', index = False)\n",
    "    hf5.to_excel(writer1, sheet_name = 'Guyaba', index = False)\n",
    "    hf6.to_excel(writer1, sheet_name = 'Kifin-Iya', index = False)\n",
    "    hf7.to_excel(writer1, sheet_name = 'Kirfi GH', index = False)\n",
    "    hf8.to_excel(writer1, sheet_name = 'Kirfi Town', index = False)\n",
    "    hf9.to_excel(writer1, sheet_name = 'Kwagal', index = False)\n",
    "    hf10.to_excel(writer1, sheet_name = 'Lariski', index = False)\n",
    "    hf11.to_excel(writer1, sheet_name = 'Shango', index = False)\n",
    "    hf12.to_excel(writer1, sheet_name = 'Tubule', index = False)\n",
    "    hf13.to_excel(writer1, sheet_name = 'Wanka', index = False)\n",
    "    hf14.to_excel(writer1, sheet_name = 'Beni', index = False)"
   ]
  },
  {
   "cell_type": "code",
   "execution_count": null,
   "id": "72f9171c",
   "metadata": {},
   "outputs": [],
   "source": []
  }
 ],
 "metadata": {
  "kernelspec": {
   "display_name": "Python 3",
   "language": "python",
   "name": "python3"
  },
  "language_info": {
   "codemirror_mode": {
    "name": "ipython",
    "version": 3
   },
   "file_extension": ".py",
   "mimetype": "text/x-python",
   "name": "python",
   "nbconvert_exporter": "python",
   "pygments_lexer": "ipython3",
   "version": "3.8.8"
  }
 },
 "nbformat": 4,
 "nbformat_minor": 5
}
