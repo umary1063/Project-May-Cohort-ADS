{
 "cells": [
  {
   "cell_type": "markdown",
   "id": "45f52983",
   "metadata": {},
   "source": [
    "### importing libraries"
   ]
  },
  {
   "cell_type": "code",
   "execution_count": 1,
   "id": "5c35f9ae",
   "metadata": {},
   "outputs": [],
   "source": [
    "import warnings\n",
    "warnings.filterwarnings('ignore')"
   ]
  },
  {
   "cell_type": "code",
   "execution_count": 2,
   "id": "d5b7d9a4",
   "metadata": {},
   "outputs": [],
   "source": [
    "import pandas as pd\n",
    "import numpy as np"
   ]
  },
  {
   "cell_type": "markdown",
   "id": "6cd2e45a",
   "metadata": {},
   "source": [
    "### Importing data"
   ]
  },
  {
   "cell_type": "code",
   "execution_count": 3,
   "id": "df753a3f",
   "metadata": {},
   "outputs": [],
   "source": [
    "melt=pd.read_excel('melt.xls')"
   ]
  },
  {
   "cell_type": "markdown",
   "id": "68a43711",
   "metadata": {},
   "source": [
    "### Filtering by Facility"
   ]
  },
  {
   "cell_type": "code",
   "execution_count": 4,
   "id": "ec62db0a",
   "metadata": {},
   "outputs": [],
   "source": [
    "#creating a filter which is similar to a groupby \n",
    "\n",
    "filt = melt['Facility Name']== ' Bauchi Specialist Hospital'\n",
    "hf1 = melt.loc[filt]\n",
    "\n",
    "hf1 = hf1.sort_values(by='value', ascending=True)"
   ]
  },
  {
   "cell_type": "code",
   "execution_count": 5,
   "id": "81a2debf",
   "metadata": {},
   "outputs": [],
   "source": [
    "#creating a filter which is similar to a groupby \n",
    "\n",
    "filt = melt['Facility Name']== ' Dandango Primary Health Care Centre'\n",
    "hf2 = melt.loc[filt]\n",
    "\n",
    "hf2 = hf2.sort_values(by='value', ascending=True)"
   ]
  },
  {
   "cell_type": "code",
   "execution_count": 6,
   "id": "0cd3811a",
   "metadata": {},
   "outputs": [],
   "source": [
    "#creating a filter which is similar to a groupby \n",
    "\n",
    "filt = melt['Facility Name']== ' Doya Primary Health Care Centre'\n",
    "hf3 = melt.loc[filt]\n",
    "\n",
    "hf3 = hf3.sort_values(by='value', ascending=True)"
   ]
  },
  {
   "cell_type": "code",
   "execution_count": 7,
   "id": "82bb5857",
   "metadata": {},
   "outputs": [],
   "source": [
    "#creating a filter which is similar to a groupby \n",
    "\n",
    "filt = melt['Facility Name']== ' Durum Primary Health Center'\n",
    "hf4 = melt.loc[filt]\n",
    "\n",
    "hf4 = hf4.sort_values(by='value', ascending=True)"
   ]
  },
  {
   "cell_type": "code",
   "execution_count": 8,
   "id": "553de129",
   "metadata": {},
   "outputs": [],
   "source": [
    "#creating a filter which is similar to a groupby \n",
    "\n",
    "filt = melt['Facility Name']== ' Gwaskwaram Primary Health Centre'\n",
    "hf5 = melt.loc[filt]\n",
    "\n",
    "hf5 = hf5.sort_values(by='value', ascending=True)"
   ]
  },
  {
   "cell_type": "code",
   "execution_count": 9,
   "id": "48b86d13",
   "metadata": {},
   "outputs": [],
   "source": [
    "#creating a filter which is similar to a groupby \n",
    "\n",
    "filt = melt['Facility Name']== ' Jahun Under Five Health Clinic'\n",
    "hf6 = melt.loc[filt]\n",
    "\n",
    "hf6 = hf6.sort_values(by='value', ascending=True)"
   ]
  },
  {
   "cell_type": "code",
   "execution_count": 10,
   "id": "4623c1a6",
   "metadata": {},
   "outputs": [],
   "source": [
    "#creating a filter which is similar to a groupby \n",
    "\n",
    "filt = melt['Facility Name']== ' Kangere Primary Health Care Centre'\n",
    "hf7 = melt.loc[filt]\n",
    "\n",
    "hf7 = hf7.sort_values(by='value', ascending=True)"
   ]
  },
  {
   "cell_type": "code",
   "execution_count": 11,
   "id": "81ba16f7",
   "metadata": {},
   "outputs": [],
   "source": [
    "#creating a filter which is similar to a groupby \n",
    "\n",
    "filt = melt['Facility Name']== ' Kobi Health Post'\n",
    "hf8 = melt.loc[filt]\n",
    "\n",
    "hf8 = hf8.sort_values(by='value', ascending=True)"
   ]
  },
  {
   "cell_type": "code",
   "execution_count": 12,
   "id": "28702dff",
   "metadata": {},
   "outputs": [],
   "source": [
    "#creating a filter which is similar to a groupby \n",
    "\n",
    "filt = melt['Facility Name']== ' Kofan Ran Primary Health Centre'\n",
    "hf9 = melt.loc[filt]\n",
    "\n",
    "hf9 = hf9.sort_values(by='value', ascending=True)"
   ]
  },
  {
   "cell_type": "code",
   "execution_count": 13,
   "id": "049e1f54",
   "metadata": {},
   "outputs": [],
   "source": [
    "#creating a filter which is similar to a groupby \n",
    "\n",
    "filt = melt['Facility Name']== ' Kofar Dumi Primary Health Care Centre'\n",
    "hf10 = melt.loc[filt]\n",
    "\n",
    "hf10 = hf10.sort_values(by='value', ascending=True)"
   ]
  },
  {
   "cell_type": "code",
   "execution_count": 14,
   "id": "8699590d",
   "metadata": {},
   "outputs": [],
   "source": [
    "#creating a filter which is similar to a groupby \n",
    "\n",
    "filt = melt['Facility Name']== ' Liman Katagum Primary Health Care Centre'\n",
    "hf11 = melt.loc[filt]\n",
    "\n",
    "hf11 = hf11.sort_values(by='value', ascending=True)"
   ]
  },
  {
   "cell_type": "code",
   "execution_count": 15,
   "id": "d1d66093",
   "metadata": {},
   "outputs": [],
   "source": [
    "#creating a filter which is similar to a groupby \n",
    "\n",
    "filt = melt['Facility Name']== ' Luda Primary Health Center'\n",
    "hf12 = melt.loc[filt]\n",
    "\n",
    "hf12 = hf12.sort_values(by='value', ascending=True)"
   ]
  },
  {
   "cell_type": "code",
   "execution_count": 16,
   "id": "5fdfa4d9",
   "metadata": {},
   "outputs": [],
   "source": [
    "#creating a filter which is similar to a groupby \n",
    "\n",
    "filt = melt['Facility Name']== ' Miri Primary Health Center'\n",
    "hf13 = melt.loc[filt]\n",
    "\n",
    "hf13 = hf13.sort_values(by='value', ascending=True)"
   ]
  },
  {
   "cell_type": "code",
   "execution_count": 17,
   "id": "f3e95138",
   "metadata": {},
   "outputs": [],
   "source": [
    "#creating a filter which is similar to a groupby \n",
    "\n",
    "filt = melt['Facility Name']== ' Nasarawa Jahun Primary Health Care Centre'\n",
    "hf14 = melt.loc[filt]\n",
    "\n",
    "hf14 = hf14.sort_values(by='value', ascending=True)"
   ]
  },
  {
   "cell_type": "code",
   "execution_count": 18,
   "id": "3a046b31",
   "metadata": {},
   "outputs": [],
   "source": [
    "#creating a filter which is similar to a groupby \n",
    "\n",
    "filt = melt['Facility Name']== ' State Low-Cost Primary Health Care Centre'\n",
    "hf15 = melt.loc[filt]\n",
    "\n",
    "hf15 = hf15.sort_values(by='value', ascending=True)"
   ]
  },
  {
   "cell_type": "code",
   "execution_count": 19,
   "id": "75f1c01e",
   "metadata": {},
   "outputs": [],
   "source": [
    "#creating a filter which is similar to a groupby \n",
    "\n",
    "filt = melt['Facility Name']== ' Tirwun Primary Health Centre'\n",
    "hf16 = melt.loc[filt]\n",
    "\n",
    "hf16 = hf16.sort_values(by='value', ascending=True)"
   ]
  },
  {
   "cell_type": "code",
   "execution_count": 20,
   "id": "ebbde11d",
   "metadata": {},
   "outputs": [],
   "source": [
    "#creating a filter which is similar to a groupby \n",
    "\n",
    "filt = melt['Facility Name']== ' Tudun Gambo Primary Health Care Centre'\n",
    "hf17 = melt.loc[filt]\n",
    "\n",
    "hf17 = hf17.sort_values(by='value', ascending=True)"
   ]
  },
  {
   "cell_type": "code",
   "execution_count": 21,
   "id": "2839109d",
   "metadata": {},
   "outputs": [],
   "source": [
    "#creating a filter which is similar to a groupby \n",
    "\n",
    "filt = melt['Facility Name']== ' Yalwa Domiciliary Maternal and Child Health Clinic'\n",
    "hf18 = melt.loc[filt]\n",
    "\n",
    "hf18 = hf18.sort_values(by='value', ascending=True)"
   ]
  },
  {
   "cell_type": "code",
   "execution_count": 22,
   "id": "cd0380dd",
   "metadata": {},
   "outputs": [],
   "source": [
    "#creating a filter which is similar to a groupby \n",
    "\n",
    "filt = melt['Facility Name']== ' Yuguda Primary Health Care Centre'\n",
    "hf19 = melt.loc[filt]\n",
    "\n",
    "hf19 = hf19.sort_values(by='value', ascending=True)"
   ]
  },
  {
   "cell_type": "code",
   "execution_count": 23,
   "id": "dd1daaa9",
   "metadata": {},
   "outputs": [],
   "source": [
    "#creating a filter which is similar to a groupby \n",
    "\n",
    "filt = melt['Facility Name']== ' Zungur Primary Health Centre'\n",
    "hf20 = melt.loc[filt]\n",
    "\n",
    "hf20 = hf20.sort_values(by='value', ascending=True)"
   ]
  },
  {
   "cell_type": "code",
   "execution_count": 24,
   "id": "aaa62b3d",
   "metadata": {},
   "outputs": [],
   "source": [
    "#creating a filter which is similar to a groupby \n",
    "\n",
    "filt = melt['Facility Name']== ' Tashan Babiye Primary Health Care Centre'\n",
    "hf21 = melt.loc[filt]\n",
    "\n",
    "hf21 = hf21.sort_values(by='value', ascending=True)"
   ]
  },
  {
   "cell_type": "code",
   "execution_count": 25,
   "id": "6fccd255",
   "metadata": {},
   "outputs": [],
   "source": [
    "with pd.ExcelWriter('output\\Bauchi PHCs.xlsx') as writer1:\n",
    "    \n",
    "    hf1.to_excel(writer1, sheet_name = 'Specialist', index = False)\n",
    "    hf2.to_excel(writer1, sheet_name = 'Dandango', index = False)\n",
    "    hf3.to_excel(writer1, sheet_name = 'Doya', index = False)\n",
    "    hf4.to_excel(writer1, sheet_name = 'Durum', index = False)\n",
    "    hf5.to_excel(writer1, sheet_name = 'Gwaskwaram', index = False)\n",
    "    hf6.to_excel(writer1, sheet_name = 'Jahun', index = False)\n",
    "    hf7.to_excel(writer1, sheet_name = 'Kangere', index = False)\n",
    "    hf8.to_excel(writer1, sheet_name = 'Kobi', index = False)\n",
    "    hf9.to_excel(writer1, sheet_name = 'Kofar Ran', index = False)\n",
    "    hf10.to_excel(writer1, sheet_name = 'Kofar Dumi', index = False)\n",
    "    hf11.to_excel(writer1, sheet_name = 'Liman Katagum', index = False)\n",
    "    hf12.to_excel(writer1, sheet_name = 'Luda', index = False)\n",
    "    hf13.to_excel(writer1, sheet_name = 'Miri', index = False)\n",
    "    hf14.to_excel(writer1, sheet_name = 'Nasarawa', index = False)\n",
    "    hf15.to_excel(writer1, sheet_name = 'State-Lowcost', index = False)\n",
    "    hf16.to_excel(writer1, sheet_name = 'Tirwun', index = False)\n",
    "    hf17.to_excel(writer1, sheet_name = 'Tudun Gambo', index = False)\n",
    "    hf18.to_excel(writer1, sheet_name = 'Yelwa Dom', index = False)\n",
    "    hf19.to_excel(writer1, sheet_name = 'Yuguda', index = False)\n",
    "    hf20.to_excel(writer1, sheet_name = 'Zungur', index = False)\n",
    "    hf21.to_excel(writer1, sheet_name = 'Tashan Babeye', index = False)"
   ]
  },
  {
   "cell_type": "code",
   "execution_count": null,
   "id": "72f9171c",
   "metadata": {},
   "outputs": [],
   "source": []
  }
 ],
 "metadata": {
  "kernelspec": {
   "display_name": "Python 3",
   "language": "python",
   "name": "python3"
  },
  "language_info": {
   "codemirror_mode": {
    "name": "ipython",
    "version": 3
   },
   "file_extension": ".py",
   "mimetype": "text/x-python",
   "name": "python",
   "nbconvert_exporter": "python",
   "pygments_lexer": "ipython3",
   "version": "3.8.8"
  }
 },
 "nbformat": 4,
 "nbformat_minor": 5
}
