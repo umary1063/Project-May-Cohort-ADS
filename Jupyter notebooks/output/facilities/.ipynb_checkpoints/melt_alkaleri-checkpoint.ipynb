{
 "cells": [
  {
   "cell_type": "markdown",
   "id": "45f52983",
   "metadata": {},
   "source": [
    "### importing libraries"
   ]
  },
  {
   "cell_type": "code",
   "execution_count": 1,
   "id": "5c35f9ae",
   "metadata": {},
   "outputs": [],
   "source": [
    "import warnings\n",
    "warnings.filterwarnings('ignore')"
   ]
  },
  {
   "cell_type": "code",
   "execution_count": 2,
   "id": "d5b7d9a4",
   "metadata": {},
   "outputs": [],
   "source": [
    "import pandas as pd\n",
    "import numpy as np"
   ]
  },
  {
   "cell_type": "markdown",
   "id": "6cd2e45a",
   "metadata": {},
   "source": [
    "### Importing data"
   ]
  },
  {
   "cell_type": "code",
   "execution_count": 5,
   "id": "b6285f64",
   "metadata": {},
   "outputs": [
    {
     "ename": "FileNotFoundError",
     "evalue": "[Errno 2] No such file or directory: 'melt.xlsx'",
     "output_type": "error",
     "traceback": [
      "\u001b[1;31m---------------------------------------------------------------------------\u001b[0m",
      "\u001b[1;31mFileNotFoundError\u001b[0m                         Traceback (most recent call last)",
      "\u001b[1;32m<ipython-input-5-b1756dfe7e4a>\u001b[0m in \u001b[0;36m<module>\u001b[1;34m\u001b[0m\n\u001b[1;32m----> 1\u001b[1;33m \u001b[0mfp\u001b[0m\u001b[1;33m=\u001b[0m\u001b[0mpd\u001b[0m\u001b[1;33m.\u001b[0m\u001b[0mread_excel\u001b[0m\u001b[1;33m(\u001b[0m\u001b[1;34m'melt.xlsx'\u001b[0m\u001b[1;33m)\u001b[0m\u001b[1;33m\u001b[0m\u001b[1;33m\u001b[0m\u001b[0m\n\u001b[0m",
      "\u001b[1;32m~\\anaconda3\\lib\\site-packages\\pandas\\util\\_decorators.py\u001b[0m in \u001b[0;36mwrapper\u001b[1;34m(*args, **kwargs)\u001b[0m\n\u001b[0;32m    297\u001b[0m                 )\n\u001b[0;32m    298\u001b[0m                 \u001b[0mwarnings\u001b[0m\u001b[1;33m.\u001b[0m\u001b[0mwarn\u001b[0m\u001b[1;33m(\u001b[0m\u001b[0mmsg\u001b[0m\u001b[1;33m,\u001b[0m \u001b[0mFutureWarning\u001b[0m\u001b[1;33m,\u001b[0m \u001b[0mstacklevel\u001b[0m\u001b[1;33m=\u001b[0m\u001b[0mstacklevel\u001b[0m\u001b[1;33m)\u001b[0m\u001b[1;33m\u001b[0m\u001b[1;33m\u001b[0m\u001b[0m\n\u001b[1;32m--> 299\u001b[1;33m             \u001b[1;32mreturn\u001b[0m \u001b[0mfunc\u001b[0m\u001b[1;33m(\u001b[0m\u001b[1;33m*\u001b[0m\u001b[0margs\u001b[0m\u001b[1;33m,\u001b[0m \u001b[1;33m**\u001b[0m\u001b[0mkwargs\u001b[0m\u001b[1;33m)\u001b[0m\u001b[1;33m\u001b[0m\u001b[1;33m\u001b[0m\u001b[0m\n\u001b[0m\u001b[0;32m    300\u001b[0m \u001b[1;33m\u001b[0m\u001b[0m\n\u001b[0;32m    301\u001b[0m         \u001b[1;32mreturn\u001b[0m \u001b[0mwrapper\u001b[0m\u001b[1;33m\u001b[0m\u001b[1;33m\u001b[0m\u001b[0m\n",
      "\u001b[1;32m~\\anaconda3\\lib\\site-packages\\pandas\\io\\excel\\_base.py\u001b[0m in \u001b[0;36mread_excel\u001b[1;34m(io, sheet_name, header, names, index_col, usecols, squeeze, dtype, engine, converters, true_values, false_values, skiprows, nrows, na_values, keep_default_na, na_filter, verbose, parse_dates, date_parser, thousands, comment, skipfooter, convert_float, mangle_dupe_cols, storage_options)\u001b[0m\n\u001b[0;32m    334\u001b[0m     \u001b[1;32mif\u001b[0m \u001b[1;32mnot\u001b[0m \u001b[0misinstance\u001b[0m\u001b[1;33m(\u001b[0m\u001b[0mio\u001b[0m\u001b[1;33m,\u001b[0m \u001b[0mExcelFile\u001b[0m\u001b[1;33m)\u001b[0m\u001b[1;33m:\u001b[0m\u001b[1;33m\u001b[0m\u001b[1;33m\u001b[0m\u001b[0m\n\u001b[0;32m    335\u001b[0m         \u001b[0mshould_close\u001b[0m \u001b[1;33m=\u001b[0m \u001b[1;32mTrue\u001b[0m\u001b[1;33m\u001b[0m\u001b[1;33m\u001b[0m\u001b[0m\n\u001b[1;32m--> 336\u001b[1;33m         \u001b[0mio\u001b[0m \u001b[1;33m=\u001b[0m \u001b[0mExcelFile\u001b[0m\u001b[1;33m(\u001b[0m\u001b[0mio\u001b[0m\u001b[1;33m,\u001b[0m \u001b[0mstorage_options\u001b[0m\u001b[1;33m=\u001b[0m\u001b[0mstorage_options\u001b[0m\u001b[1;33m,\u001b[0m \u001b[0mengine\u001b[0m\u001b[1;33m=\u001b[0m\u001b[0mengine\u001b[0m\u001b[1;33m)\u001b[0m\u001b[1;33m\u001b[0m\u001b[1;33m\u001b[0m\u001b[0m\n\u001b[0m\u001b[0;32m    337\u001b[0m     \u001b[1;32melif\u001b[0m \u001b[0mengine\u001b[0m \u001b[1;32mand\u001b[0m \u001b[0mengine\u001b[0m \u001b[1;33m!=\u001b[0m \u001b[0mio\u001b[0m\u001b[1;33m.\u001b[0m\u001b[0mengine\u001b[0m\u001b[1;33m:\u001b[0m\u001b[1;33m\u001b[0m\u001b[1;33m\u001b[0m\u001b[0m\n\u001b[0;32m    338\u001b[0m         raise ValueError(\n",
      "\u001b[1;32m~\\anaconda3\\lib\\site-packages\\pandas\\io\\excel\\_base.py\u001b[0m in \u001b[0;36m__init__\u001b[1;34m(self, path_or_buffer, engine, storage_options)\u001b[0m\n\u001b[0;32m   1069\u001b[0m                 \u001b[0mext\u001b[0m \u001b[1;33m=\u001b[0m \u001b[1;34m\"xls\"\u001b[0m\u001b[1;33m\u001b[0m\u001b[1;33m\u001b[0m\u001b[0m\n\u001b[0;32m   1070\u001b[0m             \u001b[1;32melse\u001b[0m\u001b[1;33m:\u001b[0m\u001b[1;33m\u001b[0m\u001b[1;33m\u001b[0m\u001b[0m\n\u001b[1;32m-> 1071\u001b[1;33m                 ext = inspect_excel_format(\n\u001b[0m\u001b[0;32m   1072\u001b[0m                     \u001b[0mcontent\u001b[0m\u001b[1;33m=\u001b[0m\u001b[0mpath_or_buffer\u001b[0m\u001b[1;33m,\u001b[0m \u001b[0mstorage_options\u001b[0m\u001b[1;33m=\u001b[0m\u001b[0mstorage_options\u001b[0m\u001b[1;33m\u001b[0m\u001b[1;33m\u001b[0m\u001b[0m\n\u001b[0;32m   1073\u001b[0m                 )\n",
      "\u001b[1;32m~\\anaconda3\\lib\\site-packages\\pandas\\io\\excel\\_base.py\u001b[0m in \u001b[0;36minspect_excel_format\u001b[1;34m(path, content, storage_options)\u001b[0m\n\u001b[0;32m    947\u001b[0m     \u001b[1;32massert\u001b[0m \u001b[0mcontent_or_path\u001b[0m \u001b[1;32mis\u001b[0m \u001b[1;32mnot\u001b[0m \u001b[1;32mNone\u001b[0m\u001b[1;33m\u001b[0m\u001b[1;33m\u001b[0m\u001b[0m\n\u001b[0;32m    948\u001b[0m \u001b[1;33m\u001b[0m\u001b[0m\n\u001b[1;32m--> 949\u001b[1;33m     with get_handle(\n\u001b[0m\u001b[0;32m    950\u001b[0m         \u001b[0mcontent_or_path\u001b[0m\u001b[1;33m,\u001b[0m \u001b[1;34m\"rb\"\u001b[0m\u001b[1;33m,\u001b[0m \u001b[0mstorage_options\u001b[0m\u001b[1;33m=\u001b[0m\u001b[0mstorage_options\u001b[0m\u001b[1;33m,\u001b[0m \u001b[0mis_text\u001b[0m\u001b[1;33m=\u001b[0m\u001b[1;32mFalse\u001b[0m\u001b[1;33m\u001b[0m\u001b[1;33m\u001b[0m\u001b[0m\n\u001b[0;32m    951\u001b[0m     ) as handle:\n",
      "\u001b[1;32m~\\anaconda3\\lib\\site-packages\\pandas\\io\\common.py\u001b[0m in \u001b[0;36mget_handle\u001b[1;34m(path_or_buf, mode, encoding, compression, memory_map, is_text, errors, storage_options)\u001b[0m\n\u001b[0;32m    649\u001b[0m         \u001b[1;32melse\u001b[0m\u001b[1;33m:\u001b[0m\u001b[1;33m\u001b[0m\u001b[1;33m\u001b[0m\u001b[0m\n\u001b[0;32m    650\u001b[0m             \u001b[1;31m# Binary mode\u001b[0m\u001b[1;33m\u001b[0m\u001b[1;33m\u001b[0m\u001b[1;33m\u001b[0m\u001b[0m\n\u001b[1;32m--> 651\u001b[1;33m             \u001b[0mhandle\u001b[0m \u001b[1;33m=\u001b[0m \u001b[0mopen\u001b[0m\u001b[1;33m(\u001b[0m\u001b[0mhandle\u001b[0m\u001b[1;33m,\u001b[0m \u001b[0mioargs\u001b[0m\u001b[1;33m.\u001b[0m\u001b[0mmode\u001b[0m\u001b[1;33m)\u001b[0m\u001b[1;33m\u001b[0m\u001b[1;33m\u001b[0m\u001b[0m\n\u001b[0m\u001b[0;32m    652\u001b[0m         \u001b[0mhandles\u001b[0m\u001b[1;33m.\u001b[0m\u001b[0mappend\u001b[0m\u001b[1;33m(\u001b[0m\u001b[0mhandle\u001b[0m\u001b[1;33m)\u001b[0m\u001b[1;33m\u001b[0m\u001b[1;33m\u001b[0m\u001b[0m\n\u001b[0;32m    653\u001b[0m \u001b[1;33m\u001b[0m\u001b[0m\n",
      "\u001b[1;31mFileNotFoundError\u001b[0m: [Errno 2] No such file or directory: 'melt.xlsx'"
     ]
    }
   ],
   "source": [
    "fp=pd.read_excel('melt.xlsx')"
   ]
  },
  {
   "cell_type": "markdown",
   "id": "fe4eeacc",
   "metadata": {},
   "source": [
    "### Filterting by Facilities"
   ]
  },
  {
   "cell_type": "code",
   "execution_count": 4,
   "id": "ec62db0a",
   "metadata": {},
   "outputs": [
    {
     "ename": "NameError",
     "evalue": "name 'melt' is not defined",
     "output_type": "error",
     "traceback": [
      "\u001b[1;31m---------------------------------------------------------------------------\u001b[0m",
      "\u001b[1;31mNameError\u001b[0m                                 Traceback (most recent call last)",
      "\u001b[1;32m<ipython-input-4-93e9648d8a6d>\u001b[0m in \u001b[0;36m<module>\u001b[1;34m\u001b[0m\n\u001b[0;32m      1\u001b[0m \u001b[1;31m#creating a filter which is similar to a groupby\u001b[0m\u001b[1;33m\u001b[0m\u001b[1;33m\u001b[0m\u001b[1;33m\u001b[0m\u001b[0m\n\u001b[0;32m      2\u001b[0m \u001b[1;33m\u001b[0m\u001b[0m\n\u001b[1;32m----> 3\u001b[1;33m \u001b[0mfilt\u001b[0m \u001b[1;33m=\u001b[0m \u001b[0mmelt\u001b[0m\u001b[1;33m[\u001b[0m\u001b[1;34m'Facility Name'\u001b[0m\u001b[1;33m]\u001b[0m\u001b[1;33m==\u001b[0m \u001b[1;34m' Alkaleri General Hospital'\u001b[0m\u001b[1;33m\u001b[0m\u001b[1;33m\u001b[0m\u001b[0m\n\u001b[0m\u001b[0;32m      4\u001b[0m \u001b[0mhf1\u001b[0m \u001b[1;33m=\u001b[0m \u001b[0mmelt\u001b[0m\u001b[1;33m.\u001b[0m\u001b[0mloc\u001b[0m\u001b[1;33m[\u001b[0m\u001b[0mfilt\u001b[0m\u001b[1;33m]\u001b[0m\u001b[1;33m\u001b[0m\u001b[1;33m\u001b[0m\u001b[0m\n\u001b[0;32m      5\u001b[0m \u001b[1;33m\u001b[0m\u001b[0m\n",
      "\u001b[1;31mNameError\u001b[0m: name 'melt' is not defined"
     ]
    }
   ],
   "source": [
    "#creating a filter which is similar to a groupby \n",
    "\n",
    "filt = melt['Facility Name']== ' Alkaleri General Hospital'\n",
    "hf1 = melt.loc[filt]\n",
    "\n",
    "hf1 = hf1.sort_values(by='value', ascending=True)"
   ]
  },
  {
   "cell_type": "code",
   "execution_count": null,
   "id": "81a2debf",
   "metadata": {},
   "outputs": [],
   "source": [
    "#creating a filter which is similar to a groupby \n",
    "\n",
    "filt = melt['Facility Name']== ' Alkaleri Town Maternal & Child Health Clinic'\n",
    "hf2 = melt.loc[filt]\n",
    "\n",
    "hf2 = hf2.sort_values(by='value', ascending=True)"
   ]
  },
  {
   "cell_type": "code",
   "execution_count": null,
   "id": "0cd3811a",
   "metadata": {},
   "outputs": [],
   "source": [
    "#creating a filter which is similar to a groupby \n",
    "\n",
    "filt = melt['Facility Name']== ' Bajama Primary Health Center'\n",
    "hf3 = melt.loc[filt]\n",
    "\n",
    "hf3 = hf3.sort_values(by='value', ascending=True)"
   ]
  },
  {
   "cell_type": "code",
   "execution_count": null,
   "id": "82bb5857",
   "metadata": {},
   "outputs": [],
   "source": [
    "#creating a filter which is similar to a groupby \n",
    "\n",
    "filt = melt['Facility Name']== ' Bakin Kogi Model Primary Health Centre'\n",
    "hf4 = melt.loc[filt]\n",
    "\n",
    "hf4 = hf4.sort_values(by='value', ascending=True)"
   ]
  },
  {
   "cell_type": "code",
   "execution_count": null,
   "id": "ab173829",
   "metadata": {},
   "outputs": [],
   "source": [
    "#creating a filter which is similar to a groupby \n",
    "\n",
    "filt = melt['Facility Name']== ' Digare Primary Health center'\n",
    "hf5 = melt.loc[filt]\n",
    "\n",
    "hf5 = hf5.sort_values(by='value', ascending=True)"
   ]
  },
  {
   "cell_type": "code",
   "execution_count": null,
   "id": "8cc95db3",
   "metadata": {},
   "outputs": [],
   "source": [
    "#creating a filter which is similar to a groupby \n",
    "\n",
    "filt = melt['Facility Name']== ' Duguri Primary Health Care Centre'\n",
    "hf6 = melt.loc[filt]\n",
    "\n",
    "hf6 = hf6.sort_values(by='value', ascending=True)"
   ]
  },
  {
   "cell_type": "code",
   "execution_count": null,
   "id": "fd05dcc0",
   "metadata": {},
   "outputs": [],
   "source": [
    "#creating a filter which is similar to a groupby \n",
    "\n",
    "filt = melt['Facility Name']== ' Futuk Primary Health Center'\n",
    "hf7 = melt.loc[filt]\n",
    "\n",
    "hf7 = hf7.sort_values(by='value', ascending=True)"
   ]
  },
  {
   "cell_type": "code",
   "execution_count": null,
   "id": "e5565c0b",
   "metadata": {},
   "outputs": [],
   "source": [
    "#creating a filter which is similar to a groupby \n",
    "\n",
    "filt = melt['Facility Name']== ' Gar Primary Health Center'\n",
    "hf8 = melt.loc[filt]\n",
    "\n",
    "hf8 = hf8.sort_values(by='value', ascending=True)"
   ]
  },
  {
   "cell_type": "code",
   "execution_count": null,
   "id": "292f7a05",
   "metadata": {},
   "outputs": [],
   "source": [
    "#creating a filter which is similar to a groupby \n",
    "\n",
    "filt = melt['Facility Name']== ' Garin Hamza  PrimaryHealth Center'\n",
    "hf9 = melt.loc[filt]\n",
    "\n",
    "hf9 = hf9.sort_values(by='value', ascending=True)"
   ]
  },
  {
   "cell_type": "code",
   "execution_count": null,
   "id": "c3571cd9",
   "metadata": {},
   "outputs": [],
   "source": [
    "#creating a filter which is similar to a groupby \n",
    "\n",
    "filt = melt['Facility Name']== ' Gokaru Primary Health center'\n",
    "hf10 = melt.loc[filt]\n",
    "\n",
    "hf10 = hf10.sort_values(by='value', ascending=True)"
   ]
  },
  {
   "cell_type": "code",
   "execution_count": null,
   "id": "d85b47f4",
   "metadata": {},
   "outputs": [],
   "source": [
    "#creating a filter which is similar to a groupby \n",
    "\n",
    "filt = melt['Facility Name']== ' Gorondo Primary Health Center'\n",
    "hf11 = melt.loc[filt]\n",
    "\n",
    "hf11 = hf11.sort_values(by='value', ascending=True)"
   ]
  },
  {
   "cell_type": "code",
   "execution_count": null,
   "id": "61099382",
   "metadata": {},
   "outputs": [],
   "source": [
    "#creating a filter which is similar to a groupby \n",
    "\n",
    "filt = melt['Facility Name']== ' Gwana Primary Health Center'\n",
    "hf12 = melt.loc[filt]\n",
    "\n",
    "hf12 = hf12.sort_values(by='value', ascending=True)"
   ]
  },
  {
   "cell_type": "code",
   "execution_count": null,
   "id": "e517ac00",
   "metadata": {},
   "outputs": [],
   "source": [
    "#creating a filter which is similar to a groupby \n",
    "\n",
    "filt = melt['Facility Name']== ' Gwaram Primary Health Center'\n",
    "hf13 = melt.loc[filt]\n",
    "\n",
    "hf13 = hf13.sort_values(by='value', ascending=True)"
   ]
  },
  {
   "cell_type": "code",
   "execution_count": null,
   "id": "2da6742c",
   "metadata": {},
   "outputs": [],
   "source": [
    "#creating a filter which is similar to a groupby \n",
    "\n",
    "filt = melt['Facility Name']== ' Kundak Primary Health Center'\n",
    "hf14 = melt.loc[filt]\n",
    "\n",
    "hf14 = hf14.sort_values(by='value', ascending=True)"
   ]
  },
  {
   "cell_type": "code",
   "execution_count": null,
   "id": "dbd95358",
   "metadata": {},
   "outputs": [],
   "source": [
    "#creating a filter which is similar to a groupby \n",
    "\n",
    "filt = melt['Facility Name']== ' Maimadi PrimaryHealth Center'\n",
    "hf15 = melt.loc[filt]\n",
    "\n",
    "hf15 = hf15.sort_values(by='value', ascending=True)"
   ]
  },
  {
   "cell_type": "code",
   "execution_count": null,
   "id": "507d08fe",
   "metadata": {},
   "outputs": [],
   "source": [
    "#creating a filter which is similar to a groupby \n",
    "\n",
    "filt = melt['Facility Name']== ' Mansur  Primary Health Center'\n",
    "hf16 = melt.loc[filt]\n",
    "\n",
    "hf16 = hf16.sort_values(by='value', ascending=True)"
   ]
  },
  {
   "cell_type": "code",
   "execution_count": null,
   "id": "5bb85329",
   "metadata": {},
   "outputs": [],
   "source": [
    "#creating a filter which is similar to a groupby \n",
    "\n",
    "filt = melt['Facility Name']== ' Pali Primary Health Centre'\n",
    "hf17 = melt.loc[filt]\n",
    "\n",
    "hf17 = hf17.sort_values(by='value', ascending=True)"
   ]
  },
  {
   "cell_type": "code",
   "execution_count": null,
   "id": "e30e634e",
   "metadata": {},
   "outputs": [],
   "source": [
    "#creating a filter which is similar to a groupby \n",
    "\n",
    "filt = melt['Facility Name']== ' Shira Primary Health Center'\n",
    "hf18 = melt.loc[filt]\n",
    "\n",
    "hf18 = hf18.sort_values(by='value', ascending=True)"
   ]
  },
  {
   "cell_type": "code",
   "execution_count": null,
   "id": "47bca81e",
   "metadata": {},
   "outputs": [],
   "source": [
    "#creating a filter which is similar to a groupby \n",
    "\n",
    "filt = melt['Facility Name']== ' Yalo Primary Health Center'\n",
    "hf19 = melt.loc[filt]\n",
    "\n",
    "hf19 = hf19.sort_values(by='value', ascending=True)"
   ]
  },
  {
   "cell_type": "code",
   "execution_count": null,
   "id": "401b6f99",
   "metadata": {},
   "outputs": [],
   "source": [
    "#creating a filter which is similar to a groupby \n",
    "\n",
    "filt = melt['Facility Name']== ' Yelwan Duguri Model Primary Health Center'\n",
    "hf20 = melt.loc[filt]\n",
    "\n",
    "hf20 = hf20.sort_values(by='value', ascending=True)"
   ]
  },
  {
   "cell_type": "code",
   "execution_count": null,
   "id": "0c0fd7ec",
   "metadata": {},
   "outputs": [],
   "source": [
    "with pd.ExcelWriter('Alkaleri PHCs.xlsx') as writer1:\n",
    "    \n",
    "    hf1.to_excel(writer1, sheet_name = 'GH Alkaleri', index = False)\n",
    "    hf2.to_excel(writer1, sheet_name = 'Alkaleri Town', index = False)\n",
    "    hf3.to_excel(writer1, sheet_name = 'Bajama', index = False)\n",
    "    hf4.to_excel(writer1, sheet_name = 'Bakin Kogi', index = False)\n",
    "    hf5.to_excel(writer1, sheet_name = 'Digare', index = False)\n",
    "    hf6.to_excel(writer1, sheet_name = 'Duguri', index = False)\n",
    "    hf7.to_excel(writer1, sheet_name = 'Fukuk', index = False)\n",
    "    hf8.to_excel(writer1, sheet_name = 'Gar', index = False)\n",
    "    hf9.to_excel(writer1, sheet_name = 'Garin Hamza', index = False)\n",
    "    hf10.to_excel(writer1, sheet_name = 'Gokaru', index = False)\n",
    "    hf11.to_excel(writer1, sheet_name = 'Gorondo', index = False)\n",
    "    hf12.to_excel(writer1, sheet_name = 'Gwana', index = False)\n",
    "    hf13.to_excel(writer1, sheet_name = 'Gwaram', index = False)\n",
    "    hf14.to_excel(writer1, sheet_name = 'Kundak', index = False)\n",
    "    hf15.to_excel(writer1, sheet_name = 'Maimadi', index = False)\n",
    "    hf16.to_excel(writer1, sheet_name = 'Mansur', index = False)\n",
    "    hf17.to_excel(writer1, sheet_name = 'Pali', index = False)\n",
    "    hf18.to_excel(writer1, sheet_name = 'Shira', index = False)\n",
    "    hf19.to_excel(writer1, sheet_name = 'Yalo', index = False)\n",
    "    hf20.to_excel(writer1, sheet_name = 'Yalwan Duguri', index = False)"
   ]
  },
  {
   "cell_type": "code",
   "execution_count": null,
   "id": "1a2b2c67",
   "metadata": {},
   "outputs": [],
   "source": []
  }
 ],
 "metadata": {
  "kernelspec": {
   "display_name": "Python 3",
   "language": "python",
   "name": "python3"
  },
  "language_info": {
   "codemirror_mode": {
    "name": "ipython",
    "version": 3
   },
   "file_extension": ".py",
   "mimetype": "text/x-python",
   "name": "python",
   "nbconvert_exporter": "python",
   "pygments_lexer": "ipython3",
   "version": "3.8.8"
  }
 },
 "nbformat": 4,
 "nbformat_minor": 5
}
