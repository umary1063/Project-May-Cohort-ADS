{
 "cells": [
  {
   "cell_type": "markdown",
   "id": "55531657",
   "metadata": {},
   "source": [
    "# Importing Libraries"
   ]
  },
  {
   "cell_type": "code",
   "execution_count": 1,
   "id": "98cde4ec",
   "metadata": {},
   "outputs": [],
   "source": [
    "import numpy as np\n",
    "import pandas as pd\n",
    "import plotly.express as px\n",
    "\n",
    "import warnings\n",
    "warnings.filterwarnings('ignore')\n",
    "\n",
    "from pandas import ExcelWriter\n",
    "import xlsxwriter"
   ]
  },
  {
   "cell_type": "code",
   "execution_count": 2,
   "id": "381eddee",
   "metadata": {},
   "outputs": [],
   "source": [
    "data=pd.read_excel(r'C:\\Users\\Umar Muhammad\\Dropbox\\TO3 South\\DHIS2\\Gap Analysis\\2021\\Q4\\October 2021\\gaps_july-sept\\melt\\clean_data_south.xlsx')"
   ]
  },
  {
   "cell_type": "code",
   "execution_count": 3,
   "id": "2c9bfa59",
   "metadata": {},
   "outputs": [],
   "source": [
    "fp=data[['Facility Name', 'State', 'LGA', 'Ward',\n",
    "         'Month_Year','Females using modern contraception 10 - 14yrs',\n",
    "         'Females using modern contraception 15-19yrs',\n",
    "         'Females using modern contraception 20 - 24yrs',\n",
    "         'Females using modern contraception 25 - 49 yrs (NH19)',\n",
    "         'Females using modern contraception ≥ 50yrs',\n",
    "         'FP clients counselled Male', 'FP clients counselled Female',\n",
    "         'New FP Acceptors Female', 'New FP Acceptors Male',\n",
    "         'Persons given oral pills', 'Clients that received Condoms Male',\n",
    "         'Clients that received Condoms Female', 'Clients given oral pills',\n",
    "         'Implants inserted', 'IUD inserted ',\n",
    "         'Injectables given Provider administer  DMPA-SC',\n",
    "         'Injectables given Noristerat', 'Injectables given DMPA-IM']]"
   ]
  },
  {
   "cell_type": "code",
   "execution_count": 4,
   "id": "bf8642d4",
   "metadata": {},
   "outputs": [],
   "source": [
    "total_clients_counselled = ['FP clients counselled Male','FP clients counselled Female']\n",
    "\n",
    "fp['total_clients_counselled'] = fp[total_clients_counselled].sum(axis=1)"
   ]
  },
  {
   "cell_type": "code",
   "execution_count": 5,
   "id": "f6b0e387",
   "metadata": {},
   "outputs": [],
   "source": [
    "total_new_acceptors = ['New FP Acceptors Female','New FP Acceptors Male']\n",
    "\n",
    "fp['total_new_acceptors'] = fp[total_new_acceptors].sum(axis=1)"
   ]
  },
  {
   "cell_type": "code",
   "execution_count": 6,
   "id": "ff089566",
   "metadata": {},
   "outputs": [],
   "source": [
    "total_female_using_mc = ['Females using modern contraception 10 - 14yrs',\n",
    "                        'Females using modern contraception 15-19yrs',\n",
    "                        'Females using modern contraception 20 - 24yrs',\n",
    "                        'Females using modern contraception 25 - 49 yrs (NH19)',\n",
    "                        'Females using modern contraception ≥ 50yrs']\n",
    "\n",
    "fp['total_female_using_mc'] = fp[total_female_using_mc].sum(axis=1)"
   ]
  },
  {
   "cell_type": "code",
   "execution_count": 7,
   "id": "3eeda950",
   "metadata": {},
   "outputs": [],
   "source": [
    "mc_methods_utilized = ['Persons given oral pills','Clients that received Condoms Female',\n",
    "                       'Clients given oral pills','Implants inserted', 'IUD inserted ',\n",
    "                       'Injectables given Provider administer  DMPA-SC',\n",
    "                       'Injectables given Noristerat','Injectables given DMPA-IM']\n",
    "\n",
    "fp['mc_methods_utilized'] = fp[mc_methods_utilized].sum(axis=1)"
   ]
  },
  {
   "cell_type": "code",
   "execution_count": 8,
   "id": "7fd73c31",
   "metadata": {},
   "outputs": [],
   "source": [
    "total_injectables = ['Injectables given Provider administer  DMPA-SC',\n",
    "                     'Injectables given Noristerat', \n",
    "                     'Injectables given DMPA-IM']\n",
    "\n",
    "fp['total_injectables'] = fp[total_injectables].sum(axis=1)"
   ]
  },
  {
   "cell_type": "code",
   "execution_count": 9,
   "id": "360e0335",
   "metadata": {},
   "outputs": [],
   "source": [
    "fp = fp[['Facility Name', 'State', 'LGA', 'Ward','Month_Year',\n",
    "         'Clients that received Condoms Male',\n",
    "         'FP clients counselled Male',\n",
    "          'total_clients_counselled',\n",
    "          'Persons given oral pills',\n",
    "          'total_new_acceptors',\n",
    "          'total_injectables',\n",
    "          'IUD inserted ',\n",
    "          'Implants inserted',\n",
    "          'total_female_using_mc',\n",
    "          'mc_methods_utilized']]        "
   ]
  },
  {
   "cell_type": "code",
   "execution_count": 10,
   "id": "232f27e4",
   "metadata": {},
   "outputs": [],
   "source": [
    "fp1=fp"
   ]
  },
  {
   "cell_type": "markdown",
   "id": "c7f53882",
   "metadata": {},
   "source": [
    "## Validation Rules"
   ]
  },
  {
   "cell_type": "code",
   "execution_count": 11,
   "id": "82179e0f",
   "metadata": {},
   "outputs": [],
   "source": [
    "conditions = [ fp1['FP clients counselled Male'] < fp1['Clients that received Condoms Male']]\n",
    "\n",
    "choices = ['Male condom received is more than male counselled']\n",
    "              \n",
    "fp1['fp_Remarks-1'] = np.select(conditions,choices, default='')"
   ]
  },
  {
   "cell_type": "code",
   "execution_count": 12,
   "id": "71db5aac",
   "metadata": {},
   "outputs": [],
   "source": [
    "conditions = [ fp1['total_female_using_mc'] > fp1['mc_methods_utilized']]\n",
    "\n",
    "choices = ['fp methods utilized is less than females using mc methods']\n",
    "              \n",
    "fp1['fp_Remarks-2'] = np.select(conditions,choices, default='')"
   ]
  },
  {
   "cell_type": "code",
   "execution_count": 13,
   "id": "09076478",
   "metadata": {},
   "outputs": [],
   "source": [
    "conditions = [ fp1['total_female_using_mc'] < fp1['mc_methods_utilized']]\n",
    "\n",
    "choices = ['fp methods utilized is more than females using mc methods']\n",
    "              \n",
    "fp1['fp_Remarks-3'] = np.select(conditions,choices, default='')"
   ]
  },
  {
   "cell_type": "code",
   "execution_count": 14,
   "id": "23510965",
   "metadata": {},
   "outputs": [],
   "source": [
    "conditions = [fp1['total_clients_counselled'] < fp1['total_new_acceptors']]\n",
    "\n",
    "choices = ['new acceptors are more than clients counselled']\n",
    "              \n",
    "fp1['fp_Remarks-4'] = np.select(conditions,choices, default='')"
   ]
  },
  {
   "cell_type": "code",
   "execution_count": 15,
   "id": "1de52faa",
   "metadata": {},
   "outputs": [],
   "source": [
    "fp1 = fp1.drop(fp1[(fp1['fp_Remarks-1'] == '') & \n",
    "                   (fp1['fp_Remarks-2'] == '') & \n",
    "                   (fp1['fp_Remarks-3'] == '') &\n",
    "                   (fp1['fp_Remarks-4'] == '')].index)"
   ]
  },
  {
   "cell_type": "markdown",
   "id": "e37548ae",
   "metadata": {},
   "source": [
    "## Remarks"
   ]
  },
  {
   "cell_type": "code",
   "execution_count": 16,
   "id": "d331f66c",
   "metadata": {},
   "outputs": [],
   "source": [
    "Remarks = fp[['Facility Name', 'State', 'LGA', 'Ward', 'Month_Year',\n",
    "              'fp_Remarks-1', 'fp_Remarks-2','fp_Remarks-3', 'fp_Remarks-4']]"
   ]
  },
  {
   "cell_type": "code",
   "execution_count": 17,
   "id": "f9b85c75",
   "metadata": {},
   "outputs": [],
   "source": [
    "melt = Remarks.melt(id_vars=['Facility Name','LGA', 'Ward', 'Month_Year'])"
   ]
  },
  {
   "cell_type": "code",
   "execution_count": 18,
   "id": "1e8906f9",
   "metadata": {},
   "outputs": [],
   "source": [
    "melt = melt.drop(index=melt[melt['value']==''].index)\n",
    "melt = melt.drop(index=melt[melt['value']=='  State'].index)"
   ]
  },
  {
   "cell_type": "code",
   "execution_count": 19,
   "id": "1af2eca8",
   "metadata": {},
   "outputs": [],
   "source": [
    "melt = melt.drop(index=melt[melt['value']==''].index)"
   ]
  },
  {
   "cell_type": "code",
   "execution_count": 20,
   "id": "65d98a62",
   "metadata": {},
   "outputs": [],
   "source": [
    "melt.to_excel('output/family_planning_remarks_all.xls', index = False)"
   ]
  },
  {
   "cell_type": "code",
   "execution_count": null,
   "id": "b1680110",
   "metadata": {},
   "outputs": [],
   "source": []
  }
 ],
 "metadata": {
  "kernelspec": {
   "display_name": "Python 3",
   "language": "python",
   "name": "python3"
  },
  "language_info": {
   "codemirror_mode": {
    "name": "ipython",
    "version": 3
   },
   "file_extension": ".py",
   "mimetype": "text/x-python",
   "name": "python",
   "nbconvert_exporter": "python",
   "pygments_lexer": "ipython3",
   "version": "3.8.8"
  }
 },
 "nbformat": 4,
 "nbformat_minor": 5
}
