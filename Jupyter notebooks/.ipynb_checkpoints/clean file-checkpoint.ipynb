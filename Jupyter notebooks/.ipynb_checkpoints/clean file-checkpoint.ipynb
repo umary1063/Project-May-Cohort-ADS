{
 "cells": [
  {
   "cell_type": "markdown",
   "id": "55531657",
   "metadata": {},
   "source": [
    "# Importing Libraries"
   ]
  },
  {
   "cell_type": "code",
   "execution_count": 2,
   "id": "98cde4ec",
   "metadata": {},
   "outputs": [],
   "source": [
    "import numpy as np\n",
    "import pandas as pd\n",
    "import plotly.express as px\n",
    "\n",
    "import warnings\n",
    "warnings.filterwarnings('ignore')\n",
    "\n",
    "pd.set_option('display.max_columns', None)"
   ]
  },
  {
   "cell_type": "markdown",
   "id": "7169b6f6",
   "metadata": {},
   "source": [
    "## Importing data"
   ]
  },
  {
   "cell_type": "code",
   "execution_count": 3,
   "id": "2d9f84de",
   "metadata": {},
   "outputs": [],
   "source": [
    "data=pd.read_excel(r'C:\\Users\\Umar Muhammad\\Dropbox\\TO3 South\\DHIS2\\Gap Analysis\\2021\\Q4\\October 2021\\gaps_july-sept\\melt\\data.xls',  parse_dates=True)"
   ]
  },
  {
   "cell_type": "code",
   "execution_count": 4,
   "id": "d6152b5e",
   "metadata": {},
   "outputs": [],
   "source": [
    "south_LGAs= (['ba Alkaleri Local Government Area',\n",
    "              'ba Kirfi Local Government Area', \n",
    "              'ba Dass Local Government Area',\n",
    "              'ba Bauchi Local Government Area',\n",
    "              'ba Bogoro Local Government Area', \n",
    "              'ba Toro Local Government Area',\n",
    "              'ba Tafawa-Balewa Local Government Area'])"
   ]
  },
  {
   "cell_type": "code",
   "execution_count": 5,
   "id": "15e5fe64",
   "metadata": {},
   "outputs": [],
   "source": [
    "t03_s=data[data.orgunitlevel2.isin(south_LGAs)]"
   ]
  },
  {
   "cell_type": "code",
   "execution_count": 6,
   "id": "7c2fb234",
   "metadata": {},
   "outputs": [],
   "source": [
    "dp={'organisationunitid', \n",
    "    'organisationunitname',\n",
    "    'periodid', \n",
    "    'organisationunitcode',\n",
    "    'organisationunitdescription', \n",
    "    'periodcode',\n",
    "    'perioddescription'}"
   ]
  },
  {
   "cell_type": "code",
   "execution_count": 7,
   "id": "5758f4d0",
   "metadata": {},
   "outputs": [],
   "source": [
    "t03_s.drop(columns='organisationunitname', inplace=True)"
   ]
  },
  {
   "cell_type": "code",
   "execution_count": 8,
   "id": "866af9e4",
   "metadata": {},
   "outputs": [],
   "source": [
    "dict={'orgunitlevel1':'State', \n",
    "      'orgunitlevel2':'LGA' , \n",
    "      'orgunitlevel3': 'Ward',\n",
    "      'periodname':'Month_Year',\n",
    "      'orgunitlevel4':'Facility Name',\n",
    "      'NHMIS Monthly Summary Form (Version 2019) Actual reports on time':'Actual Reports on Time'}"
   ]
  },
  {
   "cell_type": "code",
   "execution_count": 9,
   "id": "3da9136e",
   "metadata": {},
   "outputs": [],
   "source": [
    "t03_s.rename(columns=dict, inplace=True)"
   ]
  },
  {
   "cell_type": "code",
   "execution_count": 10,
   "id": "0b98c4f0",
   "metadata": {},
   "outputs": [],
   "source": [
    "t03_s['State'] = t03_s['State'].str.replace('ba','')\n",
    "t03_s['LGA'] = t03_s['LGA'].str.replace('ba','')\n",
    "t03_s['Ward'] = t03_s['Ward'].str.replace('ba','')\n",
    "t03_s['Facility Name'] = t03_s['Facility Name'].str.replace('ba','')\n",
    "\n",
    "t03_s['State'] = t03_s['State'].str.replace('Bauchi', '')\n",
    "t03_s['LGA'] = t03_s['LGA'].str.replace('Local Government Area', '')\n",
    "t03_s['Ward'] = t03_s['Ward'].str.replace('Ward', '')\n",
    "\n",
    "t03_s=t03_s.fillna(0)"
   ]
  },
  {
   "cell_type": "markdown",
   "id": "1ec11b64",
   "metadata": {},
   "source": [
    "## Saving Clean File"
   ]
  },
  {
   "cell_type": "code",
   "execution_count": 11,
   "id": "862e58c6",
   "metadata": {},
   "outputs": [],
   "source": [
    "t03_s.set_index('Facility Name', inplace=True)"
   ]
  },
  {
   "cell_type": "code",
   "execution_count": 12,
   "id": "2ccc30de",
   "metadata": {},
   "outputs": [],
   "source": [
    "t03_s.to_excel('clean_data_south.xlsx')   "
   ]
  },
  {
   "cell_type": "code",
   "execution_count": null,
   "id": "480cb4a5",
   "metadata": {},
   "outputs": [],
   "source": []
  }
 ],
 "metadata": {
  "kernelspec": {
   "display_name": "Python 3",
   "language": "python",
   "name": "python3"
  },
  "language_info": {
   "codemirror_mode": {
    "name": "ipython",
    "version": 3
   },
   "file_extension": ".py",
   "mimetype": "text/x-python",
   "name": "python",
   "nbconvert_exporter": "python",
   "pygments_lexer": "ipython3",
   "version": "3.8.8"
  }
 },
 "nbformat": 4,
 "nbformat_minor": 5
}
