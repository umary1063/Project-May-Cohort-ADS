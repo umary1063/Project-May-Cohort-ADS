{
 "cells": [
  {
   "cell_type": "markdown",
   "id": "45f52983",
   "metadata": {},
   "source": [
    "### importing libraries"
   ]
  },
  {
   "cell_type": "code",
   "execution_count": 1,
   "id": "d5b7d9a4",
   "metadata": {},
   "outputs": [],
   "source": [
    "import numpy as np\n",
    "import pandas as pd\n",
    "import plotly.express as px\n",
    "\n",
    "from pandas import ExcelWriter\n",
    "import xlsxwriter\n",
    "\n",
    "import warnings\n",
    "warnings.filterwarnings('ignore')"
   ]
  },
  {
   "cell_type": "markdown",
   "id": "6cd2e45a",
   "metadata": {},
   "source": [
    "### Importing data"
   ]
  },
  {
   "cell_type": "code",
   "execution_count": 2,
   "id": "b6285f64",
   "metadata": {},
   "outputs": [],
   "source": [
    "data=pd.read_excel(r'C:\\Users\\Umar Muhammad\\Dropbox\\TO3 South\\DHIS2\\Gap Analysis\\2021\\Q4\\October 2021\\gaps_july-sept\\melt\\clean_data_south.xlsx')"
   ]
  },
  {
   "cell_type": "markdown",
   "id": "0027903e",
   "metadata": {},
   "source": [
    "### Immediate Newborn Care"
   ]
  },
  {
   "cell_type": "code",
   "execution_count": 3,
   "id": "44e1a1be",
   "metadata": {},
   "outputs": [],
   "source": [
    "#Sellecting Columns from a dataframe\n",
    "\n",
    "new_born = data[['Facility Name','State','LGA','Ward','Month_Year',\n",
    "                 'Live Births Female, <2.5kg', 'Live Births Female, >2.5kg',\n",
    "                 'Live Births Male, <2.5kg', 'Live Births Male, >2.5kg',\n",
    "                 'Still birth  Fresh Still Births (FSB)', 'Still birth  Macerated (MSB)',\n",
    "                 '4% Chlorhexidine (CHX) gel is applied to cord at birth Female',\n",
    "                 '4% Chlorhexidine (CHX) gel is applied to cord at birth Male',\n",
    "                 'Babies put to breast within 1hr with skin-to-skin to keep warm Female',\n",
    "                 'Babies put to breast within 1hr with skin-to-skin to keep warm Male',\n",
    "                 'Babies whose cords clamped/cut after 1min of birth Female',\n",
    "                 'Babies whose cords clamped/cut after 1min of birth Male',\n",
    "                 'Babies whose temperature were taken at 1hr of birth Female',\n",
    "                 'Babies whose temperature were taken at 1hr of birth Male',\n",
    "                 'Babies not breathing/not crying at birth Female',\n",
    "                 'Babies not breathing/not crying at birth Male',\n",
    "                 'Babies not breathing/not crying at birth successfully resuscitated Female',\n",
    "                 'Babies not breathing/not crying at birth successfully resuscitated Male']]"
   ]
  },
  {
   "cell_type": "code",
   "execution_count": 4,
   "id": "ad6e0dec",
   "metadata": {},
   "outputs": [],
   "source": [
    "total_CHx = ['4% Chlorhexidine (CHX) gel is applied to cord at birth Female',\n",
    "                '4% Chlorhexidine (CHX) gel is applied to cord at birth Male']\n",
    "new_born['total_CHx'] = new_born[total_CHx].sum(axis=1)"
   ]
  },
  {
   "cell_type": "code",
   "execution_count": 5,
   "id": "1eb1dc39",
   "metadata": {},
   "outputs": [],
   "source": [
    "total_clamped_cord = ['Babies whose cords clamped/cut after 1min of birth Female',\n",
    "                      'Babies whose cords clamped/cut after 1min of birth Male']\n",
    "new_born['total_clamped_cord'] = new_born[total_clamped_cord].sum(axis=1)"
   ]
  },
  {
   "cell_type": "code",
   "execution_count": 6,
   "id": "dae08a95",
   "metadata": {},
   "outputs": [],
   "source": [
    "temp_at_1hr = ['Babies whose temperature were taken at 1hr of birth Female',\n",
    "                 'Babies whose temperature were taken at 1hr of birth Male']\n",
    "new_born['temp_at_1hr'] = new_born[temp_at_1hr].sum(axis=1)"
   ]
  },
  {
   "cell_type": "code",
   "execution_count": 7,
   "id": "ca24bc96",
   "metadata": {},
   "outputs": [],
   "source": [
    "skin_skin_warm = ['Babies put to breast within 1hr with skin-to-skin to keep warm Female',\n",
    "                     'Babies put to breast within 1hr with skin-to-skin to keep warm Male']\n",
    "new_born['skin_skin_warm'] = new_born[skin_skin_warm].sum(axis=1)"
   ]
  },
  {
   "cell_type": "code",
   "execution_count": 8,
   "id": "a28dfb69",
   "metadata": {},
   "outputs": [],
   "source": [
    "nt_breathing = ['Babies not breathing/not crying at birth Female',\n",
    "                 'Babies not breathing/not crying at birth Male',]\n",
    "new_born['nt_breathing'] = new_born[nt_breathing].sum(axis=1)"
   ]
  },
  {
   "cell_type": "code",
   "execution_count": 9,
   "id": "e967534a",
   "metadata": {},
   "outputs": [],
   "source": [
    "successful_resus = ['Babies not breathing/not crying at birth successfully resuscitated Female',\n",
    "                   'Babies not breathing/not crying at birth successfully resuscitated Male']\n",
    "new_born['successful_resus'] = new_born[successful_resus].sum(axis=1)"
   ]
  },
  {
   "cell_type": "code",
   "execution_count": 10,
   "id": "a050a2e4",
   "metadata": {},
   "outputs": [],
   "source": [
    "livebirths = ['Live Births Female, <2.5kg','Live Births Female, >2.5kg','Live Births Male, <2.5kg','Live Births Male, >2.5kg']\n",
    "\n",
    "new_born['livebirths'] = new_born[livebirths].sum(axis=1)"
   ]
  },
  {
   "cell_type": "code",
   "execution_count": 11,
   "id": "639a7db2",
   "metadata": {},
   "outputs": [],
   "source": [
    "stillbirths = ['Still birth  Fresh Still Births (FSB)', 'Still birth  Macerated (MSB)']\n",
    "\n",
    "new_born['stillbirths'] = new_born[stillbirths].sum(axis=1)"
   ]
  },
  {
   "cell_type": "markdown",
   "id": "d089d262",
   "metadata": {},
   "source": [
    "## Validation Rules"
   ]
  },
  {
   "cell_type": "code",
   "execution_count": 12,
   "id": "14d6a56f",
   "metadata": {},
   "outputs": [],
   "source": [
    "conditions = [new_born['total_CHx'] == 0]\n",
    "choices = ['Use of chlohexidine gel was not reported']\n",
    "new_born['L&D_Remarks-1'] = np.select(conditions,choices, default='')"
   ]
  },
  {
   "cell_type": "code",
   "execution_count": 13,
   "id": "e0c55ab3",
   "metadata": {},
   "outputs": [],
   "source": [
    "conditions = [new_born['total_clamped_cord'] == 0]\n",
    "choices = ['clamping of cord was not reported']\n",
    "new_born['L&D_Remarks-2'] = np.select(conditions,choices, default='')        "
   ]
  },
  {
   "cell_type": "code",
   "execution_count": 14,
   "id": "3d985fa4",
   "metadata": {},
   "outputs": [],
   "source": [
    "conditions = [new_born['temp_at_1hr'] == 0]\n",
    "choices = ['Baby temperature at 1hr was not reported']\n",
    "new_born['L&D_Remarks-3'] = np.select(conditions,choices, default='')                  "
   ]
  },
  {
   "cell_type": "code",
   "execution_count": 15,
   "id": "45cd0e8f",
   "metadata": {},
   "outputs": [],
   "source": [
    "conditions = [new_born['skin_skin_warm']  == 0]\n",
    "choices = ['Baby put skin_skin to keep warm was not reported']\n",
    "new_born['L&D_Remarks-4'] = np.select(conditions,choices, default='')                  "
   ]
  },
  {
   "cell_type": "code",
   "execution_count": 16,
   "id": "4add6385",
   "metadata": {},
   "outputs": [],
   "source": [
    "conditions = [new_born['livebirths'] == 0]\n",
    "choices = ['livebirth was not reported']\n",
    "new_born['L&D_Remarks-5'] = np.select(conditions,choices, default='')               "
   ]
  },
  {
   "cell_type": "code",
   "execution_count": 17,
   "id": "f54d4a73",
   "metadata": {},
   "outputs": [],
   "source": [
    "conditions = [new_born['stillbirths'] > 0]\n",
    "choices    = ['stillbirths was reported, verify!']\n",
    "new_born['L&D_Remarks-6'] = np.select(conditions,choices, default='')"
   ]
  },
  {
   "cell_type": "code",
   "execution_count": 18,
   "id": "d7d2b983",
   "metadata": {},
   "outputs": [],
   "source": [
    "conditions = [new_born['total_CHx'] > new_born['livebirths']]\n",
    "choices = ['Chlohexidine gel reported is more than reported livebirth']\n",
    "new_born['L&D_Remarks-7'] = np.select(conditions,choices, default='')             "
   ]
  },
  {
   "cell_type": "code",
   "execution_count": 19,
   "id": "7ee38130",
   "metadata": {},
   "outputs": [],
   "source": [
    "conditions = [new_born['total_clamped_cord']> new_born['livebirths']]\n",
    "choices = ['clamping of baby cord reported is more than livebirth']\n",
    "new_born['L&D_Remarks-8'] = np.select(conditions,choices, default='')             "
   ]
  },
  {
   "cell_type": "code",
   "execution_count": 20,
   "id": "5aa0b341",
   "metadata": {},
   "outputs": [],
   "source": [
    "conditions = [new_born['temp_at_1hr'] > new_born['livebirths']]\n",
    "choices = ['Baby temperature taken at 1 hr reported is more than reported livebirths']\n",
    "new_born['L&D_Remarks-9'] = np.select(conditions,choices, default='')             "
   ]
  },
  {
   "cell_type": "code",
   "execution_count": 21,
   "id": "a413a782",
   "metadata": {},
   "outputs": [],
   "source": [
    "conditions = [new_born['skin_skin_warm'] > new_born['livebirths']]\n",
    "choices = ['Baby put skin_skin_warm is more than livebirths']\n",
    "new_born['L&D_Remarks-10'] = np.select(conditions,choices, default='')             "
   ]
  },
  {
   "cell_type": "code",
   "execution_count": 22,
   "id": "18277f09",
   "metadata": {},
   "outputs": [],
   "source": [
    "conditions = [new_born['stillbirths']  > new_born['livebirths']]\n",
    "choices = ['stillbirths is more than livebirths']\n",
    "new_born['L&D_Remarks-11'] = np.select(conditions,choices, default='')             "
   ]
  },
  {
   "cell_type": "markdown",
   "id": "ee004624",
   "metadata": {},
   "source": [
    "## newborn"
   ]
  },
  {
   "cell_type": "code",
   "execution_count": 23,
   "id": "4c896c75",
   "metadata": {},
   "outputs": [],
   "source": [
    "new_born2 = new_born[['Facility Name', 'State', 'LGA', 'Ward', 'Month_Year',\n",
    "                       'L&D_Remarks-1', 'L&D_Remarks-2', 'L&D_Remarks-3', 'L&D_Remarks-4', 'L&D_Remarks-5',\n",
    "                       'L&D_Remarks-6', 'L&D_Remarks-7', 'L&D_Remarks-8', 'L&D_Remarks-9', 'L&D_Remarks-10','L&D_Remarks-11']]"
   ]
  },
  {
   "cell_type": "code",
   "execution_count": 24,
   "id": "66b1667d",
   "metadata": {},
   "outputs": [],
   "source": [
    "melt = new_born2.melt(id_vars=['Facility Name','LGA', 'Ward', 'Month_Year'])"
   ]
  },
  {
   "cell_type": "code",
   "execution_count": 25,
   "id": "3b9e7a33",
   "metadata": {},
   "outputs": [],
   "source": [
    "melt = melt.drop(index=melt[melt['value']==''].index)\n",
    "melt = melt.drop(index=melt[melt['value']=='  State'].index)"
   ]
  },
  {
   "cell_type": "code",
   "execution_count": 26,
   "id": "39a59fd4",
   "metadata": {},
   "outputs": [],
   "source": [
    "melt.to_excel('output/inb_remarks_all.xlsx', index = False)"
   ]
  },
  {
   "cell_type": "code",
   "execution_count": null,
   "id": "89b87a89",
   "metadata": {},
   "outputs": [],
   "source": []
  },
  {
   "cell_type": "code",
   "execution_count": null,
   "id": "2c969024",
   "metadata": {},
   "outputs": [],
   "source": []
  }
 ],
 "metadata": {
  "kernelspec": {
   "display_name": "Python 3",
   "language": "python",
   "name": "python3"
  },
  "language_info": {
   "codemirror_mode": {
    "name": "ipython",
    "version": 3
   },
   "file_extension": ".py",
   "mimetype": "text/x-python",
   "name": "python",
   "nbconvert_exporter": "python",
   "pygments_lexer": "ipython3",
   "version": "3.8.8"
  }
 },
 "nbformat": 4,
 "nbformat_minor": 5
}
