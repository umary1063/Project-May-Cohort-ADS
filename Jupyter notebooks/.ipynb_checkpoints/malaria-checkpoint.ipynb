{
 "cells": [
  {
   "cell_type": "markdown",
   "id": "55531657",
   "metadata": {},
   "source": [
    "# Importing Libraries"
   ]
  },
  {
   "cell_type": "code",
   "execution_count": 1,
   "id": "98cde4ec",
   "metadata": {},
   "outputs": [],
   "source": [
    "import numpy as np\n",
    "import pandas as pd\n",
    "from pandas import ExcelWriter\n",
    "import xlsxwriter\n",
    "import warnings\n",
    "warnings.filterwarnings('ignore')"
   ]
  },
  {
   "cell_type": "code",
   "execution_count": 2,
   "id": "381eddee",
   "metadata": {},
   "outputs": [],
   "source": [
    "data=pd.read_excel(r'C:\\Users\\Umar Muhammad\\Dropbox\\TO3 South\\DHIS2\\Gap Analysis\\2021\\Q4\\October 2021\\gaps_july-sept\\melt\\clean_data_malaria.xlsx')"
   ]
  },
  {
   "cell_type": "code",
   "execution_count": 3,
   "id": "e22e33f6",
   "metadata": {},
   "outputs": [],
   "source": [
    "#data.fillna(0,inplace=True)"
   ]
  },
  {
   "cell_type": "code",
   "execution_count": 4,
   "id": "63a9e775",
   "metadata": {},
   "outputs": [],
   "source": [
    "total_clinical_daignosed_cases = ['Persons with clinically diagnosed Malaria  ≥5yrs (excl PW)',\n",
    "                                  'Persons with clinically diagnosed Malaria <5yrs',\n",
    "                                  'Persons with clinically diagnosed Malaria >=5years',\n",
    "                                  'Persons with clinically diagnosed Malaria Preg Women (PW)']\n",
    "\n",
    "# adding summed columns to a dataframe\n",
    "\n",
    "data['total_clinical_daignosed_cases'] = data[total_clinical_daignosed_cases].sum(axis=1)"
   ]
  },
  {
   "cell_type": "code",
   "execution_count": 5,
   "id": "07219996",
   "metadata": {},
   "outputs": [],
   "source": [
    "total_fever_cases = ['Persons with fever  ≥5yrs (excl PW)',\n",
    "                     'Persons with fever <5yrs',\n",
    "                     'Persons with fever >=5years',\n",
    "                     'Persons with fever Preg Women (PW)',]\n",
    "\n",
    "\n",
    "# adding summed columns to a dataframe\n",
    "\n",
    "data['total_fever_cases'] = data[total_fever_cases].sum(axis=1)                    "
   ]
  },
  {
   "cell_type": "code",
   "execution_count": 6,
   "id": "5b6d9b6f",
   "metadata": {},
   "outputs": [],
   "source": [
    "test_by_RDT = ['Persons presenting with fever & tested by RDT  ≥5yrs (excl PW)',\n",
    "               'Persons presenting with fever & tested by RDT <5yrs',\n",
    "               'Persons presenting with fever & tested by RDT >=5years',\n",
    "               'Persons presenting with fever & tested by RDT Preg Women (PW)']\n",
    "\n",
    "# adding summed columns to a dataframe\n",
    "\n",
    "data['test_by_RDT'] = data[test_by_RDT].sum(axis=1)                   "
   ]
  },
  {
   "cell_type": "code",
   "execution_count": 7,
   "id": "7c0d8a87",
   "metadata": {},
   "outputs": [],
   "source": [
    "postive_by_RDT = ['Persons tested positive for malaria by RDT  ≥5yrs (excl PW)',\n",
    "                  'Persons tested positive for malaria by RDT <5yrs',\n",
    "                  'Persons tested positive for malaria by RDT >=5years',\n",
    "                  'Persons tested positive for malaria by RDT Preg Women (PW)']\n",
    "\n",
    "#adding summed columns to a dataframe\n",
    "\n",
    "data['postive_by_RDT'] = data[postive_by_RDT].sum(axis=1) "
   ]
  },
  {
   "cell_type": "code",
   "execution_count": 8,
   "id": "3d9ecb14",
   "metadata": {},
   "outputs": [],
   "source": [
    "test_by_microscopy = ['Persons presenting with fever and tested by Microscopy  ≥5yrs (excl PW)',\n",
    "                      'Persons presenting with fever and tested by Microscopy <5yrs',\n",
    "                      'Persons presenting with fever and tested by Microscopy >=5years',\n",
    "                      'Persons presenting with fever and tested by Microscopy Preg Women (PW)']\n",
    "\n",
    "# adding summed columns to a dataframe\n",
    "\n",
    "data['test_by_microscopy'] = data[test_by_microscopy].sum(axis=1)"
   ]
  },
  {
   "cell_type": "code",
   "execution_count": 9,
   "id": "5cd76091",
   "metadata": {},
   "outputs": [],
   "source": [
    "positive_by_microscopy = ['Persons tested positive for malaria by Microscopy  ≥5yrs (excl PW)',\n",
    "                          'Persons tested positive for malaria by Microscopy <5yrs',\n",
    "                          'Persons tested positive for malaria by Microscopy >=5years',\n",
    "                          'Persons tested positive for malaria by Microscopy Preg Women (PW)']\n",
    "\n",
    "# adding summed columns to a dataframe\n",
    "\n",
    "data['positive_by_microscopy'] = data[positive_by_microscopy].sum(axis=1)"
   ]
  },
  {
   "cell_type": "code",
   "execution_count": 10,
   "id": "eecec678",
   "metadata": {},
   "outputs": [],
   "source": [
    "# Summing up columns\n",
    "\n",
    "confirmed_uncomplicated = ['Persons with confirmed uncomplicated Malaria  ≥5yrs (excl PW)',\n",
    "                            'Persons with confirmed uncomplicated Malaria <5yrs',\n",
    "                            'Persons with confirmed uncomplicated Malaria >=5years',\n",
    "                            'Persons with confirmed uncomplicated Malaria Preg Women (PW)']\n",
    "\n",
    "# adding summed columns to a dataframe\n",
    "\n",
    "data['confirmed_uncomplicated'] = data[confirmed_uncomplicated].sum(axis=1)       "
   ]
  },
  {
   "cell_type": "code",
   "execution_count": 11,
   "id": "bb01fa10",
   "metadata": {},
   "outputs": [],
   "source": [
    "total_severe_malaria = ['Severe Malaria cases seen  ≥5yrs (excl PW)',\n",
    "                        'Severe Malaria cases seen <5yrs', \n",
    "                        'Severe Malaria cases seen >=5years',\n",
    "                        'Severe Malaria cases seen Preg Women (PW)']\n",
    "\n",
    "# adding summed columns to a dataframe\n",
    "\n",
    "data['total_severe_malaria'] = data[total_severe_malaria].sum(axis=1)  "
   ]
  },
  {
   "cell_type": "code",
   "execution_count": 12,
   "id": "865f4b5e",
   "metadata": {},
   "outputs": [],
   "source": [
    "uncomp_malaria_treated_with_ACT = ['Persons with Confirmed Uncomplicated Malaria treated with ACT  ≥5yrs (excl PW)',\n",
    "                                   'Persons with Confirmed Uncomplicated Malaria treated with ACT <5yrs',\n",
    "                                   'Persons with Confirmed Uncomplicated Malaria treated with ACT >=5years',\n",
    "                                   'Persons with Confirmed Uncomplicated Malaria treated with ACT Preg Women (PW)']\n",
    "\n",
    "# adding summed columns to a dataframe\n",
    "\n",
    "data['uncomp_malaria_treated_with_ACT'] = data[uncomp_malaria_treated_with_ACT].sum(axis=1) "
   ]
  },
  {
   "cell_type": "code",
   "execution_count": 13,
   "id": "fff8631b",
   "metadata": {},
   "outputs": [],
   "source": [
    "treatment_with_other_antimalaria = ['Persons with Confirmed Uncomplicated Malaria treated with other antimalarials  ≥5yrs (excl PW)',\n",
    "                                    'Persons with Confirmed Uncomplicated Malaria treated with other antimalarials <5yrs',\n",
    "                                    'Persons with Confirmed Uncomplicated Malaria treated with other antimalarials >=5years',\n",
    "                                    'Persons with Confirmed Uncomplicated Malaria treated with other antimalarials Preg Women (PW)']\n",
    "# adding summed columns to a dataframe\n",
    "\n",
    "data['treatment_with_other_antimalaria'] = data[treatment_with_other_antimalaria].sum(axis=1)"
   ]
  },
  {
   "cell_type": "code",
   "execution_count": 14,
   "id": "3803f56e",
   "metadata": {},
   "outputs": [],
   "source": [
    "total_clincal_cases_treated_with_ACT = ['Persons Clinically diagnosed with Malaria treated with ACT  ≥5yrs (excl PW)',\n",
    "                                        'Persons Clinically diagnosed with Malaria treated with ACT <5yrs',\n",
    "                                        'Persons Clinically diagnosed with Malaria treated with ACT >=5years',\n",
    "                                        'Persons Clinically diagnosed with Malaria treated with ACT Preg Women (PW)']\n",
    "\n",
    "# adding summed columns to a dataframe\n",
    "\n",
    "data['total_clincal_cases_treated_with_ACT'] = data[total_clincal_cases_treated_with_ACT].sum(axis=1)       "
   ]
  },
  {
   "cell_type": "code",
   "execution_count": 15,
   "id": "fe2b7365",
   "metadata": {},
   "outputs": [],
   "source": [
    "total_severe_malaria_treated_with_IV_artesunate = ['Persons with Severe Malaria treated with Artesunate injection  ≥5yrs (excl PW)',\n",
    "                                                   'Persons with Severe Malaria treated with Artesunate injection <5yrs',\n",
    "                                                   'Persons with Severe Malaria treated with Artesunate injection Preg Women (PW)']\n",
    "\n",
    "# adding summed columns to a dataframe\n",
    "\n",
    "data['total_severe_malaria_treated_with_IV_artesunate'] = data[total_severe_malaria_treated_with_IV_artesunate].sum(axis=1)       "
   ]
  },
  {
   "cell_type": "markdown",
   "id": "fb12d829",
   "metadata": {},
   "source": [
    "### Totals"
   ]
  },
  {
   "cell_type": "code",
   "execution_count": 16,
   "id": "150795d8",
   "metadata": {},
   "outputs": [],
   "source": [
    "malaria = data[['Facility Name', 'State', 'LGA', 'Ward', 'Month_Year',\n",
    "                'total_clinical_daignosed_cases', 'total_fever_cases', 'test_by_RDT',\n",
    "                'postive_by_RDT', 'test_by_microscopy', 'positive_by_microscopy',\n",
    "                'confirmed_uncomplicated', 'total_severe_malaria',\n",
    "                'uncomp_malaria_treated_with_ACT', 'treatment_with_other_antimalaria',\n",
    "                'total_clincal_cases_treated_with_ACT',\n",
    "                'total_severe_malaria_treated_with_IV_artesunate']]"
   ]
  },
  {
   "cell_type": "code",
   "execution_count": 17,
   "id": "2e1cc502",
   "metadata": {},
   "outputs": [],
   "source": [
    "total_tests = ['test_by_RDT','test_by_microscopy']   \n",
    "\n",
    "# adding summed columns to a dataframe\n",
    "\n",
    "malaria['total_tests'] = malaria[total_tests].sum(axis=1)"
   ]
  },
  {
   "cell_type": "code",
   "execution_count": 18,
   "id": "4ead6d19",
   "metadata": {},
   "outputs": [],
   "source": [
    "total_results =  ['postive_by_RDT','positive_by_microscopy']\n",
    "\n",
    "#adding summed columns to a dataframe\n",
    "\n",
    "malaria['total_results'] = malaria[total_results].sum(axis=1)"
   ]
  },
  {
   "cell_type": "code",
   "execution_count": 19,
   "id": "f9c7b3c5",
   "metadata": {},
   "outputs": [],
   "source": [
    "total_treatments = ['uncomp_malaria_treated_with_ACT','treatment_with_other_antimalaria']\n",
    "\n",
    "# adding summed columns to a dataframe\n",
    "\n",
    "malaria['total_treatments'] = malaria[total_treatments].sum(axis=1)"
   ]
  },
  {
   "cell_type": "markdown",
   "id": "6b19841c",
   "metadata": {},
   "source": [
    "## Conditions"
   ]
  },
  {
   "cell_type": "code",
   "execution_count": 20,
   "id": "c00c586d",
   "metadata": {},
   "outputs": [],
   "source": [
    "conditions = [ malaria['total_fever_cases']  == 0]                                                \n",
    "choices = ['no fever cases reported']\n",
    "malaria['malaria_Remarks-1'] = np.select(conditions,choices, default='')         "
   ]
  },
  {
   "cell_type": "code",
   "execution_count": 21,
   "id": "a5cb1577",
   "metadata": {},
   "outputs": [],
   "source": [
    "conditions = [ malaria['total_severe_malaria_treated_with_IV_artesunate'] > malaria['total_severe_malaria']]                                                   \n",
    "choices = ['IV artesunate reported is more than severe malaria cases reported']\n",
    "malaria['malaria_Remarks-2'] = np.select(conditions,choices, default='')         "
   ]
  },
  {
   "cell_type": "code",
   "execution_count": 22,
   "id": "639d3b1e",
   "metadata": {},
   "outputs": [],
   "source": [
    "conditions = [ malaria['total_clinical_daignosed_cases'] < malaria['total_clincal_cases_treated_with_ACT']]\n",
    "choices = ['clinical treatment with ACT more than clinical cases reported']\n",
    "malaria['malaria_Remarks-2'] = np.select(conditions,choices, default='')         "
   ]
  },
  {
   "cell_type": "code",
   "execution_count": 23,
   "id": "765eaa41",
   "metadata": {},
   "outputs": [],
   "source": [
    "conditions = [ malaria['total_clinical_daignosed_cases'] > malaria['total_fever_cases']]             \n",
    "choices = ['clinical cases reported more than total fever cases reported']\n",
    "malaria['malaria_Remarks-3'] = np.select(conditions,choices, default='')         "
   ]
  },
  {
   "cell_type": "code",
   "execution_count": 24,
   "id": "2dae4c5b",
   "metadata": {},
   "outputs": [],
   "source": [
    "conditions = [ malaria['total_tests'] < malaria['total_results']]         \n",
    "choices = ['total positive cases reported is more than number tested']\n",
    "malaria['malaria_Remarks-4'] = np.select(conditions,choices, default='')         "
   ]
  },
  {
   "cell_type": "code",
   "execution_count": 25,
   "id": "17d838fe",
   "metadata": {},
   "outputs": [],
   "source": [
    "conditions = [ malaria['total_results'] < malaria['confirmed_uncomplicated']]                                                    \n",
    "choices = ['confirmed_uncomplicated malaria more than positve results reported']\n",
    "malaria['malaria_Remarks-5'] = np.select(conditions,choices, default='')         "
   ]
  },
  {
   "cell_type": "code",
   "execution_count": 26,
   "id": "9c4f35f1",
   "metadata": {},
   "outputs": [],
   "source": [
    "conditions = [malaria['confirmed_uncomplicated'] < malaria['total_treatments']]                                                 \n",
    "choices = ['treated patients reported are more than confirmed cases reported']\n",
    "malaria['malaria_Remarks-6'] = np.select(conditions,choices, default='')         "
   ]
  },
  {
   "cell_type": "markdown",
   "id": "7d637a07",
   "metadata": {},
   "source": [
    "## Remarks Section"
   ]
  },
  {
   "cell_type": "code",
   "execution_count": 27,
   "id": "74e7c87d",
   "metadata": {},
   "outputs": [],
   "source": [
    "malaria= malaria[['Facility Name', 'State', 'LGA', 'Ward', 'Month_Year',\n",
    "                  'malaria_Remarks-1','malaria_Remarks-2','malaria_Remarks-3',\n",
    "                  'malaria_Remarks-4','malaria_Remarks-5','malaria_Remarks-6']]"
   ]
  },
  {
   "cell_type": "code",
   "execution_count": 28,
   "id": "c264d20f",
   "metadata": {},
   "outputs": [],
   "source": [
    "melt = malaria.melt(id_vars=['Facility Name','LGA', 'Ward', 'Month_Year'])"
   ]
  },
  {
   "cell_type": "code",
   "execution_count": 29,
   "id": "91f3258f",
   "metadata": {},
   "outputs": [],
   "source": [
    "melt = melt.drop(index=melt[melt['value']==''].index)\n",
    "melt = melt.drop(index=melt[melt['value']=='  State'].index)"
   ]
  },
  {
   "cell_type": "code",
   "execution_count": 30,
   "id": "067c4137",
   "metadata": {},
   "outputs": [],
   "source": [
    "melt.to_excel('output/malaria_remarks_all.xls', index = False)"
   ]
  },
  {
   "cell_type": "code",
   "execution_count": null,
   "id": "68d5a78e",
   "metadata": {},
   "outputs": [],
   "source": []
  }
 ],
 "metadata": {
  "kernelspec": {
   "display_name": "Python 3",
   "language": "python",
   "name": "python3"
  },
  "language_info": {
   "codemirror_mode": {
    "name": "ipython",
    "version": 3
   },
   "file_extension": ".py",
   "mimetype": "text/x-python",
   "name": "python",
   "nbconvert_exporter": "python",
   "pygments_lexer": "ipython3",
   "version": "3.8.8"
  }
 },
 "nbformat": 4,
 "nbformat_minor": 5
}
