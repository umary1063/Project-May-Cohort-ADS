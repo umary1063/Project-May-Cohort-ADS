{
 "cells": [
  {
   "cell_type": "markdown",
   "id": "45f52983",
   "metadata": {},
   "source": [
    "### importing libraries"
   ]
  },
  {
   "cell_type": "code",
   "execution_count": 1,
   "id": "d5b7d9a4",
   "metadata": {},
   "outputs": [],
   "source": [
    "import warnings\n",
    "warnings.filterwarnings('ignore')\n",
    "import numpy as np\n",
    "import pandas as pd\n",
    "from pandas import ExcelWriter\n",
    "import xlsxwriter"
   ]
  },
  {
   "cell_type": "markdown",
   "id": "6cd2e45a",
   "metadata": {},
   "source": [
    "### Importing data"
   ]
  },
  {
   "cell_type": "code",
   "execution_count": 2,
   "id": "b6285f64",
   "metadata": {},
   "outputs": [],
   "source": [
    "data=pd.read_excel(r'C:\\Users\\Umar Muhammad\\Dropbox\\TO3 South\\DHIS2\\Gap Analysis\\2021\\Q4\\October 2021\\gaps_july-sept\\melt\\clean_data_south.xlsx')"
   ]
  },
  {
   "cell_type": "code",
   "execution_count": 3,
   "id": "d2d0a115",
   "metadata": {},
   "outputs": [],
   "source": [
    "mnh = data[['Facility Name', 'State', 'LGA', 'Ward', 'Month_Year',\n",
    "               'Deliveries Assisted', 'Deliveries Caeserean Section',\n",
    "               'Deliveries Spontaneous Vaginal Delivery (SVD)',\n",
    "               'Women counselled on Postpartum FP',\n",
    "               'Deliveries by Skilled Birth Attendants (SBA)',\n",
    "               'Deliveries monitored using a partograph',\n",
    "               'Deliveries with complications - mother only',\n",
    "               'Women given Uterotonics in the 3rd stage of labour Misoprostol',\n",
    "               'Women given Uterotonics in the 3rd stage of labour Oxytocin',\n",
    "               'Live Births Female, <2.5kg', 'Live Births Female, >2.5kg',\n",
    "               'Live Births Male, <2.5kg', 'Live Births Male, >2.5kg',\n",
    "               'Still birth  Fresh Still Births (FSB)', 'Still birth  Macerated (MSB)']]"
   ]
  },
  {
   "cell_type": "code",
   "execution_count": 4,
   "id": "83fdc93a",
   "metadata": {},
   "outputs": [],
   "source": [
    "#total deliveries\n",
    "\n",
    "total_deliveries= ['Deliveries Assisted',\n",
    "                    'Deliveries Caeserean Section',\n",
    "                    'Deliveries Spontaneous Vaginal Delivery (SVD)']\n",
    "\n",
    "mnh['total_deliveries']=mnh[total_deliveries].sum(axis=1)"
   ]
  },
  {
   "cell_type": "code",
   "execution_count": 5,
   "id": "ca3054b1",
   "metadata": {},
   "outputs": [],
   "source": [
    "#livebirth\n",
    "\n",
    "total_livebirths = ['Facility Name','State', 'LGA', 'Ward','Month_Year',\n",
    "                    'Live Births Female, <2.5kg','Live Births Female, >2.5kg',\n",
    "                    'Live Births Male, <2.5kg','Live Births Male, >2.5kg']\n",
    "\n",
    "mnh['total_livebirths'] = mnh[total_livebirths].sum(axis=1)"
   ]
  },
  {
   "cell_type": "code",
   "execution_count": 6,
   "id": "36700abf",
   "metadata": {},
   "outputs": [],
   "source": [
    "#still birth\n",
    "\n",
    "total_stillbirths = ['Facility Name','State', 'LGA', 'Ward','Month_Year',\n",
    "                     'Still birth  Fresh Still Births (FSB)',\n",
    "                     'Still birth  Macerated (MSB)']                 \n",
    "\n",
    "mnh['total_stillbirths'] = mnh[total_stillbirths].sum(axis=1)"
   ]
  },
  {
   "cell_type": "code",
   "execution_count": 7,
   "id": "5fcfab43",
   "metadata": {
    "scrolled": true
   },
   "outputs": [],
   "source": [
    "#total outcome\n",
    "\n",
    "total_outcome = mnh['total_outcomes']=mnh[['total_livebirths',\n",
    "                                    'total_stillbirths']].sum(axis=1)"
   ]
  },
  {
   "cell_type": "markdown",
   "id": "fe721ae0",
   "metadata": {},
   "source": [
    "## Remarks"
   ]
  },
  {
   "cell_type": "code",
   "execution_count": 8,
   "id": "477b1af1",
   "metadata": {},
   "outputs": [],
   "source": [
    "#Creating a remarks columns \n",
    "\n",
    "conditions = [mnh['Deliveries Assisted'] > 0]\n",
    "\n",
    "choices=['assisted delivery reported']\n",
    "\n",
    "mnh['L&D_Remarks-1'] = np.select(conditions,choices, default='')"
   ]
  },
  {
   "cell_type": "code",
   "execution_count": 9,
   "id": "f6f5aae9",
   "metadata": {},
   "outputs": [],
   "source": [
    "#Creating a remarks columns \n",
    "\n",
    "conditions = [mnh['total_deliveries'] == 0]\n",
    "\n",
    "choices=['no reports of delivery']\n",
    "\n",
    "mnh['L&D_Remarks-2'] = np.select(conditions,choices, default='')"
   ]
  },
  {
   "cell_type": "code",
   "execution_count": 10,
   "id": "427928e5",
   "metadata": {},
   "outputs": [],
   "source": [
    "#Creating a remarks columns \n",
    "\n",
    "conditions = [mnh['total_outcomes'] == 0]\n",
    "\n",
    "choices=['delivery outcome not reported']\n",
    "\n",
    "mnh['L&D_Remarks-3'] = np.select(conditions,choices, default='')"
   ]
  },
  {
   "cell_type": "code",
   "execution_count": 11,
   "id": "b7b9d773",
   "metadata": {},
   "outputs": [],
   "source": [
    "#Creating a remarks columns \n",
    "\n",
    "conditions = [mnh['total_deliveries'] > mnh['total_outcomes']]\n",
    "\n",
    "choices=['deliveries are more than reported outcomes']\n",
    "\n",
    "mnh['L&D_Remarks-4'] = np.select(conditions,choices, default='')"
   ]
  },
  {
   "cell_type": "code",
   "execution_count": 12,
   "id": "291d9540",
   "metadata": {},
   "outputs": [],
   "source": [
    "#Creating a remarks columns \n",
    "\n",
    "conditions = [mnh['Deliveries by Skilled Birth Attendants (SBA)'] < mnh['total_deliveries']]\n",
    "\n",
    "choices=['SBA reported is less than total deliveries']\n",
    "\n",
    "mnh['L&D_Remarks-5'] = np.select(conditions,choices, default='')"
   ]
  },
  {
   "cell_type": "code",
   "execution_count": 13,
   "id": "d608e8f4",
   "metadata": {},
   "outputs": [],
   "source": [
    "#Creating a remarks columns \n",
    "\n",
    "conditions = [mnh['Deliveries by Skilled Birth Attendants (SBA)'] > mnh['total_deliveries']]\n",
    "\n",
    "choices=['SBA reported is more than total deliveries']\n",
    "\n",
    "mnh['L&D_Remarks-6'] = np.select(conditions,choices, default='')"
   ]
  },
  {
   "cell_type": "code",
   "execution_count": 14,
   "id": "4ad5b162",
   "metadata": {},
   "outputs": [],
   "source": [
    "#Creating a remarks columns \n",
    "\n",
    "conditions = [mnh['Deliveries by Skilled Birth Attendants (SBA)'] == 0 ]\n",
    "\n",
    "choices=['SBA reported was not reported']\n",
    "\n",
    "mnh['L&D_Remarks-7'] = np.select(conditions,choices, default='')"
   ]
  },
  {
   "cell_type": "code",
   "execution_count": 15,
   "id": "56a1ea42",
   "metadata": {},
   "outputs": [],
   "source": [
    "#Creating a remarks columns \n",
    "\n",
    "conditions = [mnh['Deliveries monitored using a partograph'] == 0 ]\n",
    "\n",
    "choices=['partograph not reported']\n",
    "\n",
    "mnh['L&D_Remarks-8'] = np.select(conditions,choices, default='')"
   ]
  },
  {
   "cell_type": "code",
   "execution_count": 16,
   "id": "b283cc2b",
   "metadata": {},
   "outputs": [],
   "source": [
    "#Creating a remarks columns \n",
    "\n",
    "conditions = [mnh['Deliveries monitored using a partograph'] > mnh['total_deliveries']]\n",
    "\n",
    "choices=['partograph reported is more than reported delilveries']\n",
    "\n",
    "mnh['L&D_Remarks-9'] = np.select(conditions,choices, default='')"
   ]
  },
  {
   "cell_type": "code",
   "execution_count": 17,
   "id": "77240063",
   "metadata": {},
   "outputs": [],
   "source": [
    "#Creating a remarks columns \n",
    "\n",
    "conditions = [mnh['Deliveries monitored using a partograph'] < mnh['total_deliveries']]\n",
    "\n",
    "choices=['partograph reported is less than reported delilveries']\n",
    "\n",
    "mnh['L&D_Remarks-10'] = np.select(conditions,choices, default='')"
   ]
  },
  {
   "cell_type": "code",
   "execution_count": 18,
   "id": "a3e6e597",
   "metadata": {},
   "outputs": [],
   "source": [
    "#Creating a remarks columns \n",
    "\n",
    "conditions = [mnh['Women counselled on Postpartum FP'] == 0 ]\n",
    "\n",
    "choices=['Postpatum FP counselling was not reported']\n",
    "\n",
    "mnh['L&D_Remarks-11'] = np.select(conditions,choices, default='')"
   ]
  },
  {
   "cell_type": "code",
   "execution_count": 19,
   "id": "57ae1e11",
   "metadata": {},
   "outputs": [],
   "source": [
    "#Creating a remarks columns \n",
    "\n",
    "conditions = [mnh['Women counselled on Postpartum FP'] > mnh['total_deliveries'] ]\n",
    "\n",
    "choices=['Postpatum FP counselling is reported to be more than total deliveries']\n",
    "\n",
    "mnh['L&D_Remarks-12'] = np.select(conditions,choices, default='')"
   ]
  },
  {
   "cell_type": "code",
   "execution_count": 20,
   "id": "f26dcfde",
   "metadata": {},
   "outputs": [],
   "source": [
    "#Creating a remarks columns \n",
    "\n",
    "conditions = [mnh['Women counselled on Postpartum FP'] < mnh['total_deliveries'] ]\n",
    "\n",
    "choices=['Postpatum FP counselling is reported to be less than total deliveries']\n",
    "\n",
    "mnh['L&D_Remarks-13'] = np.select(conditions,choices, default='')"
   ]
  },
  {
   "cell_type": "code",
   "execution_count": 21,
   "id": "3c75a6d3",
   "metadata": {},
   "outputs": [],
   "source": [
    "Remarks = mnh[['Facility Name', 'State', 'LGA', 'Ward', 'Month_Year',\n",
    "                'L&D_Remarks-1', 'L&D_Remarks-2', 'L&D_Remarks-3','L&D_Remarks-4', \n",
    "                'L&D_Remarks-5', 'L&D_Remarks-6', 'L&D_Remarks-7', 'L&D_Remarks-8',\n",
    "               'L&D_Remarks-9', 'L&D_Remarks-10', 'L&D_Remarks-11', 'L&D_Remarks-12','L&D_Remarks-13']]"
   ]
  },
  {
   "cell_type": "code",
   "execution_count": 22,
   "id": "5ac70ae0",
   "metadata": {},
   "outputs": [],
   "source": [
    "melt = Remarks.melt(id_vars=['Facility Name','LGA', 'Ward', 'Month_Year'])"
   ]
  },
  {
   "cell_type": "code",
   "execution_count": 23,
   "id": "28dffeef",
   "metadata": {},
   "outputs": [],
   "source": [
    "melt = melt.drop(index=melt[melt['value']==''].index)\n",
    "melt = melt.drop(index=melt[melt['value']=='  State'].index)"
   ]
  },
  {
   "cell_type": "code",
   "execution_count": 24,
   "id": "ad4fda0f",
   "metadata": {},
   "outputs": [],
   "source": [
    "melt.to_excel('output/delivery_outcomes_remarks_all.xls', index = False)"
   ]
  },
  {
   "cell_type": "code",
   "execution_count": null,
   "id": "3f135beb",
   "metadata": {},
   "outputs": [],
   "source": []
  },
  {
   "cell_type": "code",
   "execution_count": null,
   "id": "096a5db8",
   "metadata": {},
   "outputs": [],
   "source": []
  }
 ],
 "metadata": {
  "kernelspec": {
   "display_name": "Python 3",
   "language": "python",
   "name": "python3"
  },
  "language_info": {
   "codemirror_mode": {
    "name": "ipython",
    "version": 3
   },
   "file_extension": ".py",
   "mimetype": "text/x-python",
   "name": "python",
   "nbconvert_exporter": "python",
   "pygments_lexer": "ipython3",
   "version": "3.8.8"
  }
 },
 "nbformat": 4,
 "nbformat_minor": 5
}
