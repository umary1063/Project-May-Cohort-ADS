{
 "cells": [
  {
   "cell_type": "markdown",
   "id": "45f52983",
   "metadata": {},
   "source": [
    "### importing libraries"
   ]
  },
  {
   "cell_type": "code",
   "execution_count": 1,
   "id": "5c35f9ae",
   "metadata": {},
   "outputs": [],
   "source": [
    "import warnings\n",
    "warnings.filterwarnings('ignore')"
   ]
  },
  {
   "cell_type": "code",
   "execution_count": 2,
   "id": "d5b7d9a4",
   "metadata": {},
   "outputs": [],
   "source": [
    "import pandas as pd\n",
    "import numpy as np"
   ]
  },
  {
   "cell_type": "markdown",
   "id": "6cd2e45a",
   "metadata": {},
   "source": [
    "### Importing data"
   ]
  },
  {
   "cell_type": "code",
   "execution_count": 3,
   "id": "b6285f64",
   "metadata": {},
   "outputs": [],
   "source": [
    "data=pd.read_excel(r'C:\\Users\\Umar Muhammad\\Dropbox\\TO3 South\\DHIS2\\Gap Analysis\\2021\\Q4\\October 2021\\gaps_july-sept\\melt\\clean_data_south.xlsx')"
   ]
  },
  {
   "cell_type": "code",
   "execution_count": 4,
   "id": "415fb6f7",
   "metadata": {},
   "outputs": [],
   "source": [
    "data = data[['LGA','Ward','Facility Name','Month_Year',\n",
    "                'ANC Attendance  15 - 19yrs','ANC Attendance 10 - 14yrs',\n",
    "                'ANC Attendance 20 - 34yrs','ANC Attendance 35 - 49yrs',\n",
    "                'ANC Attendance ≥ 50yrs','PW who received Haematinics',\n",
    "                'Pregnant women given TD vaccine TD1',\n",
    "                'ANC 1st Visit  GA < 20wks', 'ANC 1st Visit  GA ≥ 20wks',\n",
    "                'ANC 4th visit', 'IPT1p', 'IPT2p', 'IPT3p', 'IPT>=4',\n",
    "                'Postnatal Clinic Visits Mothers, 2 - 3d',\n",
    "                'Postnatal Clinic Visits Mothers, 4 - 7d',\n",
    "                'Postnatal Clinic Visits Mothers, >7d',\n",
    "                'Postnatal Clinic Visits Newborns, 1d',\n",
    "                'Postnatal Clinic Visits Newborns, 2 - 3d',\n",
    "                'Postnatal Clinic Visits Newborns, 4 - 7d',\n",
    "                'Postnatal Clinic Visits Newborns, >7d']]"
   ]
  },
  {
   "cell_type": "code",
   "execution_count": 5,
   "id": "ac46055d",
   "metadata": {},
   "outputs": [],
   "source": [
    "pnc_mother = ['Postnatal Clinic Visits Mothers, 2 - 3d',\n",
    "               'Postnatal Clinic Visits Mothers, 4 - 7d',\n",
    "               'Postnatal Clinic Visits Mothers, >7d']\n",
    "\n",
    "data['pnc_mother'] = data[pnc_mother].sum(axis=1)            "
   ]
  },
  {
   "cell_type": "code",
   "execution_count": 6,
   "id": "cf1e1320",
   "metadata": {},
   "outputs": [],
   "source": [
    "pnc_newborn = ['Postnatal Clinic Visits Newborns, 1d','Postnatal Clinic Visits Newborns, 2 - 3d',\n",
    "             'Postnatal Clinic Visits Newborns, 4 - 7d','Postnatal Clinic Visits Newborns, >7d']\n",
    "\n",
    "data['pnc_newborn'] = data[pnc_newborn].sum(axis=1)"
   ]
  },
  {
   "cell_type": "code",
   "execution_count": 7,
   "id": "42078026",
   "metadata": {},
   "outputs": [],
   "source": [
    "anc_total =['ANC Attendance  15 - 19yrs','ANC Attendance 10 - 14yrs',\n",
    "            'ANC Attendance 20 - 34yrs', 'ANC Attendance 35 - 49yrs',\n",
    "            'ANC Attendance ≥ 50yrs']\n",
    "\n",
    "data['anc_total'] = data[anc_total].sum(axis=1)"
   ]
  },
  {
   "cell_type": "code",
   "execution_count": 8,
   "id": "3a75a1fc",
   "metadata": {},
   "outputs": [],
   "source": [
    "anc_1st_visit = ['ANC 1st Visit  GA < 20wks','ANC 1st Visit  GA ≥ 20wks']\n",
    "\n",
    "data['anc_1st_visit'] = data[anc_1st_visit].sum(axis=1)"
   ]
  },
  {
   "cell_type": "code",
   "execution_count": 9,
   "id": "84f9e21b",
   "metadata": {},
   "outputs": [],
   "source": [
    "ipt_total = ['IPT1p', 'IPT2p', 'IPT3p', 'IPT>=4']\n",
    "\n",
    "data['ipt_total'] = data[ipt_total].sum(axis=1)"
   ]
  },
  {
   "cell_type": "code",
   "execution_count": 10,
   "id": "6c421069",
   "metadata": {},
   "outputs": [],
   "source": [
    "anc= data[['LGA', 'Ward', 'Facility Name','Month_Year','PW who received Haematinics','IPT1p','Pregnant women given TD vaccine TD1',\n",
    "           'anc_1st_visit','ipt_total','ANC 4th visit', 'anc_total','pnc_mother', 'pnc_newborn']]"
   ]
  },
  {
   "cell_type": "code",
   "execution_count": 11,
   "id": "ad92c3a1",
   "metadata": {},
   "outputs": [],
   "source": [
    "anc1=anc"
   ]
  },
  {
   "cell_type": "markdown",
   "id": "67b6db22",
   "metadata": {},
   "source": [
    "## Validation Rules"
   ]
  },
  {
   "cell_type": "code",
   "execution_count": 12,
   "id": "455c2b2d",
   "metadata": {},
   "outputs": [],
   "source": [
    "conditions = [anc1['IPT1p'] > anc1['anc_1st_visit']]  \n",
    "choices = ['IPT-1 is more than anc1_1st visit reported']  \n",
    "anc1['Remarks-1'] = np.select(conditions,choices, default='')"
   ]
  },
  {
   "cell_type": "code",
   "execution_count": 13,
   "id": "fc1759a1",
   "metadata": {},
   "outputs": [],
   "source": [
    "conditions = [anc1['IPT1p'] < anc1['anc_1st_visit']]   \n",
    "choices = ['IPT-1 is less than anc1 visit reported']  \n",
    "anc1['Remarks-2'] = np.select(conditions,choices, default='')"
   ]
  },
  {
   "cell_type": "code",
   "execution_count": 14,
   "id": "1f110797",
   "metadata": {},
   "outputs": [],
   "source": [
    "conditions = [anc1['Pregnant women given TD vaccine TD1'] > anc1['anc_1st_visit']]  \n",
    "choices = ['TD1 received by PW is more than anc1_1st visit reported']  \n",
    "anc1['Remarks-3'] = np.select(conditions,choices, default='')"
   ]
  },
  {
   "cell_type": "code",
   "execution_count": 15,
   "id": "3a391976",
   "metadata": {},
   "outputs": [],
   "source": [
    "conditions = [anc1['Pregnant women given TD vaccine TD1'] < anc1['anc_1st_visit']]  \n",
    "choices = ['TD1 received by PW is less than anc1_1st visit reported']  \n",
    "anc1['Remarks-4'] = np.select(conditions,choices, default='')"
   ]
  },
  {
   "cell_type": "code",
   "execution_count": 16,
   "id": "f72032ed",
   "metadata": {},
   "outputs": [],
   "source": [
    "conditions = [anc1['anc_total'] > anc1['PW who received Haematinics']]   \n",
    "choices = ['total anc is more than Haematinics reported']  \n",
    "anc1['Remarks-5'] = np.select(conditions,choices, default='')"
   ]
  },
  {
   "cell_type": "code",
   "execution_count": 17,
   "id": "854062cb",
   "metadata": {},
   "outputs": [],
   "source": [
    "conditions = [anc1['anc_total'] < anc1['PW who received Haematinics']]   \n",
    "choices = ['total anc is less than Haematinics']  \n",
    "anc1['Remarks-6'] = np.select(conditions,choices, default='')"
   ]
  },
  {
   "cell_type": "code",
   "execution_count": 18,
   "id": "d5ce99d6",
   "metadata": {},
   "outputs": [],
   "source": [
    "conditions = [(anc1['anc_total']== 0) & (anc1['PW who received Haematinics'] == 0)]   \n",
    "choices = ['anc not reported']  \n",
    "anc1['Remarks-6'] = np.select(conditions,choices, default='')"
   ]
  },
  {
   "cell_type": "code",
   "execution_count": 19,
   "id": "feb6eda5",
   "metadata": {},
   "outputs": [],
   "source": [
    "conditions = [(anc1['pnc_mother'] > anc1['pnc_newborn'])]   \n",
    "choices = ['more mothers came for pnc then newborns']  \n",
    "anc1['Remarks-7'] = np.select(conditions,choices, default='')"
   ]
  },
  {
   "cell_type": "code",
   "execution_count": 20,
   "id": "93316d34",
   "metadata": {},
   "outputs": [],
   "source": [
    "conditions = [(anc1['pnc_mother'] < anc1['pnc_newborn'])]   \n",
    "choices = ['more newborns reported than mothers']  \n",
    "anc1['Remarks-8'] = np.select(conditions,choices, default='')"
   ]
  },
  {
   "cell_type": "code",
   "execution_count": 21,
   "id": "630938e1",
   "metadata": {},
   "outputs": [],
   "source": [
    "anc1 = anc1.drop(anc1[(anc1['Remarks-1'] == 'Ok') & \n",
    "                   (anc1['Remarks-2'] == 'Ok') & \n",
    "                   (anc1['Remarks-3'] == 'Ok') &\n",
    "                   (anc1['Remarks-4'] == 'Ok') &\n",
    "                   (anc1['Remarks-5'] == 'Ok') &\n",
    "                   (anc1['Remarks-6'] == 'Ok') &\n",
    "                   (anc1['Remarks-7'] == 'Ok') &\n",
    "                   (anc1['Remarks-8'] == 'Ok')].index)"
   ]
  },
  {
   "cell_type": "markdown",
   "id": "b6db5611",
   "metadata": {},
   "source": [
    "## Remarks"
   ]
  },
  {
   "cell_type": "code",
   "execution_count": 29,
   "id": "733d4521",
   "metadata": {},
   "outputs": [],
   "source": [
    "Remarks1 = anc1[['LGA', 'Ward', 'Facility Name', 'Month_Year',\n",
    "                'Remarks-1', 'Remarks-2', 'Remarks-3', 'Remarks-4', 'Remarks-5',\n",
    "                'Remarks-6', 'Remarks-7', 'Remarks-8']]"
   ]
  },
  {
   "cell_type": "code",
   "execution_count": 30,
   "id": "a921d030",
   "metadata": {},
   "outputs": [],
   "source": [
    "melt = Remarks1.melt(id_vars=['Facility Name','LGA', 'Ward', 'Month_Year'])"
   ]
  },
  {
   "cell_type": "code",
   "execution_count": 31,
   "id": "0ff1c5b9",
   "metadata": {},
   "outputs": [],
   "source": [
    "melt = melt.drop(index=melt[melt['value']==''].index)"
   ]
  },
  {
   "cell_type": "code",
   "execution_count": 32,
   "id": "c141d318",
   "metadata": {},
   "outputs": [],
   "source": [
    "melt.to_excel('output/anc_pnc_remarks_all.xls', index = False)"
   ]
  },
  {
   "cell_type": "code",
   "execution_count": null,
   "id": "cf674055",
   "metadata": {},
   "outputs": [],
   "source": []
  }
 ],
 "metadata": {
  "kernelspec": {
   "display_name": "Python 3",
   "language": "python",
   "name": "python3"
  },
  "language_info": {
   "codemirror_mode": {
    "name": "ipython",
    "version": 3
   },
   "file_extension": ".py",
   "mimetype": "text/x-python",
   "name": "python",
   "nbconvert_exporter": "python",
   "pygments_lexer": "ipython3",
   "version": "3.8.8"
  }
 },
 "nbformat": 4,
 "nbformat_minor": 5
}
